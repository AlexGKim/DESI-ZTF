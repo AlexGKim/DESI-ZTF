{
 "cells": [
  {
   "cell_type": "code",
   "execution_count": 1,
   "id": "78dc8814-dce7-49ab-ae41-4c89089a8d10",
   "metadata": {
    "tags": []
   },
   "outputs": [],
   "source": [
    "import os\n",
    "from glob import glob\n",
    "import numpy as np\n",
    "import fitsio\n",
    "from scipy.ndimage import gaussian_filter1d\n",
    "from matplotlib import pyplot as plt\n",
    "from time import time\n",
    "from astropy.io import fits\n",
    "import pandas as pd\n",
    "from astropy.cosmology import Planck18\n",
    "from tqdm import tqdm\n",
    "from astropy.table import Table\n",
    "from multiprocessing import Pool\n",
    "import matplotlib as mpl\n",
    "from scipy import integrate\n",
    "from scipy.interpolate import interp1d"
   ]
  },
  {
   "cell_type": "code",
   "execution_count": 2,
   "id": "f2d5f706-5087-4d5a-9dbd-04785c69bb67",
   "metadata": {
    "tags": []
   },
   "outputs": [],
   "source": [
    "file = '/pscratch/sd/z/zhaozhon/DATASET/DESI-data/new_d.fits'\n",
    "d = Table(fitsio.read(file))"
   ]
  },
  {
   "cell_type": "code",
   "execution_count": 3,
   "id": "916b22c5-1534-4020-9fdc-3c1e7f5662d4",
   "metadata": {},
   "outputs": [],
   "source": [
    "ardir = os.path.join(os.getenv(\"PSCRATCH\", \"/pscratch/sd/z/zhaozhon\"))#\n",
    "def get_ws(ardir):\n",
    "    fn = sorted(\n",
    "        glob(os.path.join(ardir, \"pernight-spectra\",\"desi-ztf-qso-iron-*-*.fits\"))\n",
    "    )[0]\n",
    "    ws = fitsio.read(fn, \"BRZ_WAVE\")\n",
    "    return ws\n",
    "def get_tid_tileids_nights(tid, all_tids, all_tileids, all_nights):\n",
    "    sel = all_tids == tid\n",
    "    return all_tileids[sel], all_nights[sel]\n",
    "def get_indiv_spectra(tid, tileids, nights, ardir, nwave):\n",
    "\n",
    "    nobs = len(tileids)\n",
    "\n",
    "    # read the spectra\n",
    "    fs = np.zeros((nobs, nwave))  # flux\n",
    "    ivs = np.zeros((nobs, nwave))  # inverse variance\n",
    "\n",
    "    # loop on (tileids, nights)\n",
    "    for i, (tileid, night) in enumerate(zip(tileids, nights)):\n",
    "\n",
    "        fn = os.path.join(\n",
    "            ardir,\"pernight-spectra\",\n",
    "            \"desi-ztf-qso-iron-{}-{}.fits\".format(tileid, night),\n",
    "        )\n",
    "\n",
    "        # first get the row corresponding to TARGETID\n",
    "        # (for a given TILEID, a TARGETID can appear only once max.)\n",
    "        tmp_fm = fitsio.read(fn, \"FIBERMAP\", columns=[\"TARGETID\"])\n",
    "        tmp_i = np.where(tmp_fm[\"TARGETID\"] == tid)[0][0]\n",
    "\n",
    "        # now read the flux, ivar only for that row\n",
    "\n",
    "        # this is more intuitive, but it loads the whole image first,\n",
    "        #   then extracts the relevant row, so it s ~slow\n",
    "        # fs[i, :] = fitsio.read(fn, \"BRZ_FLUX\")[tmp_i, :]\n",
    "        # ivs[i, :] = fitsio.read(fn, \"BRZ_IVAR\")[tmp_i, :]\n",
    "\n",
    "        # this way is *much* faster, with reading only the relevant row\n",
    "        #   note: fitsio wants/works with a slice, not an integer...\n",
    "        h = fitsio.FITS(fn)\n",
    "        tmp_slice = slice(tmp_i, tmp_i + 1, 1)\n",
    "        fs[i, :] = h[\"BRZ_FLUX\"][tmp_slice, :]\n",
    "        ivs[i, :] = h[\"BRZ_IVAR\"][tmp_slice, :]\n",
    "\n",
    "    return fs, ivs"
   ]
  },
  {
   "cell_type": "code",
   "execution_count": 4,
   "id": "35fd2e02-9011-4f84-b512-da1e8a25a1fb",
   "metadata": {
    "tags": []
   },
   "outputs": [],
   "source": [
    "ws = get_ws(ardir)\n",
    "nwave = len(ws)"
   ]
  },
  {
   "cell_type": "code",
   "execution_count": 5,
   "id": "bbe0283f-6043-4255-b18e-6b81cfc9a588",
   "metadata": {
    "tags": []
   },
   "outputs": [
    {
     "name": "stdout",
     "output_type": "stream",
     "text": [
      "[3600.  3600.8 3601.6 ... 9822.4 9823.2 9824. ]\n"
     ]
    }
   ],
   "source": [
    "print(ws)"
   ]
  },
  {
   "cell_type": "code",
   "execution_count": 6,
   "id": "01212f8c-cab0-4869-bafd-edeb71fb6463",
   "metadata": {
    "tags": []
   },
   "outputs": [
    {
     "name": "stderr",
     "output_type": "stream",
     "text": [
      "100%|██████████| 400880/400880 [05:54<00:00, 1132.32it/s]\n"
     ]
    },
    {
     "data": {
      "text/plain": [
       "'\\nfor i in tqdm(ii):\\n    tileids, nights = get_tid_tileids_nights(d[\\'TARGETID\\'][i], d[\"TARGETID\"], d[\"TILEID\"], d[\"NIGHT\"])\\n    mu = d[\\'MU\\'][i]\\n    z = d[\\'Z\\'][i]\\n    fs, ivs = get_indiv_spectra(d[\\'TARGETID\\'][i], tileids, nights, ardir, nwave)\\n    \\n    # Select valid spectra\\n    SEL = (ivs != 0).all(axis=0)\\n    fs = (fs[:, SEL] * ivs[:, SEL]).sum(axis=0) / ivs[:, SEL].sum(axis=0)\\n    \\n    # Convert the spectrum to z=z0\\n    fs1 = fs * (1 + z) / (1 + z0) * 10**(mu / 2.5)\\n    ws1 = ws[SEL] * (1 + z0) / (1 + z)\\n    #print(fs1)\\n    # Interpolate to new wavelength bins\\n    interp_func = interp1d(ws1, fs1, kind=\\'cubic\\', fill_value=\\'extrapolate\\')\\n    new_fs1 = interp_func(new_ws1)\\n    #new_fs1 = np.interp(new_ws1, ws1, fs1)\\n    #print(ws1)\\n    #print(fs1)\\n    #print(new_fs1)\\n    # Plotting the spectra on different canvases\\n    plt.figure(figsize=(10, 6))\\n    plt.plot(ws1, fs1, label=\\'Original Spectrum\\', color=\\'blue\\', linestyle=\\'-\\', linewidth=1)\\n    plt.xlabel(\\'Wavelength (Å)\\', fontsize=14)\\n    plt.ylabel(\\'Flux\\', fontsize=14)\\n    plt.title(f\\'Original Spectrum for TARGETID {d[\"TARGETID\"][i]}\\', fontsize=16)\\n    plt.grid(True)\\n    plt.legend()\\n    plt.show()\\n\\n    plt.figure(figsize=(10, 6))\\n    plt.plot(new_ws1, new_fs1, label=\\'Interpolated Spectrum\\', color=\\'green\\', linestyle=\\'--\\', linewidth=1)\\n    plt.xlabel(\\'Wavelength (Å)\\', fontsize=14)\\n    plt.ylabel(\\'Flux\\', fontsize=14)\\n    plt.title(f\\'Interpolated Spectrum for TARGETID {d[\"TARGETID\"][i]}\\', fontsize=16)\\n    plt.grid(True)\\n    plt.legend()\\n    plt.show()\\n    all_fs1.append(new_fs1)\\n    '"
      ]
     },
     "execution_count": 6,
     "metadata": {},
     "output_type": "execute_result"
    }
   ],
   "source": [
    "all_fs1 = []\n",
    "# Define the wavelength bins\n",
    "new_ws1 = np.arange(3600, 8013, 1)\n",
    "# Loop through each targetid that meets the redshift condition\n",
    "ii = np.where((d['Z'] > 2.1) & (d['Z'] < 2.8))[0]\n",
    "z0 = 2.1\n",
    "\n",
    "def process_target(i):\n",
    "    tileids, nights = get_tid_tileids_nights(d['TARGETID'][i], d[\"TARGETID\"], d[\"TILEID\"], d[\"NIGHT\"])\n",
    "    mu = d['MU'][i]\n",
    "    z = d['Z'][i]\n",
    "    fs, ivs = get_indiv_spectra(d['TARGETID'][i], tileids, nights, ardir, nwave)\n",
    "    \n",
    "    # Select valid spectra\n",
    "    SEL = (ivs != 0).all(axis=0)\n",
    "    fs = (fs[:, SEL] * ivs[:, SEL]).sum(axis=0) / ivs[:, SEL].sum(axis=0)\n",
    "    \n",
    "    # Convert the spectrum to z=z0\n",
    "    fs1 = fs * (1 + z) / (1 + z0) * 10**(mu / 2.5)\n",
    "    ws1 = ws[SEL] * (1 + z0) / (1 + z)\n",
    "    \n",
    "    # Interpolate to new wavelength bins\n",
    "    new_fs1 = np.interp(new_ws1, ws1, fs1)\n",
    "    return new_fs1\n",
    "if __name__ == '__main__':\n",
    "    with Pool(processes=32) as pool:\n",
    "        results = list(tqdm(pool.imap(process_target, ii), total=len(ii)))\n",
    "\n",
    "    all_fs1 = np.array(results)\n",
    "\n",
    "'''\n",
    "for i in tqdm(ii):\n",
    "    tileids, nights = get_tid_tileids_nights(d['TARGETID'][i], d[\"TARGETID\"], d[\"TILEID\"], d[\"NIGHT\"])\n",
    "    mu = d['MU'][i]\n",
    "    z = d['Z'][i]\n",
    "    fs, ivs = get_indiv_spectra(d['TARGETID'][i], tileids, nights, ardir, nwave)\n",
    "    \n",
    "    # Select valid spectra\n",
    "    SEL = (ivs != 0).all(axis=0)\n",
    "    fs = (fs[:, SEL] * ivs[:, SEL]).sum(axis=0) / ivs[:, SEL].sum(axis=0)\n",
    "    \n",
    "    # Convert the spectrum to z=z0\n",
    "    fs1 = fs * (1 + z) / (1 + z0) * 10**(mu / 2.5)\n",
    "    ws1 = ws[SEL] * (1 + z0) / (1 + z)\n",
    "    #print(fs1)\n",
    "    # Interpolate to new wavelength bins\n",
    "    interp_func = interp1d(ws1, fs1, kind='cubic', fill_value='extrapolate')\n",
    "    new_fs1 = interp_func(new_ws1)\n",
    "    #new_fs1 = np.interp(new_ws1, ws1, fs1)\n",
    "    #print(ws1)\n",
    "    #print(fs1)\n",
    "    #print(new_fs1)\n",
    "    # Plotting the spectra on different canvases\n",
    "    plt.figure(figsize=(10, 6))\n",
    "    plt.plot(ws1, fs1, label='Original Spectrum', color='blue', linestyle='-', linewidth=1)\n",
    "    plt.xlabel('Wavelength (Å)', fontsize=14)\n",
    "    plt.ylabel('Flux', fontsize=14)\n",
    "    plt.title(f'Original Spectrum for TARGETID {d[\"TARGETID\"][i]}', fontsize=16)\n",
    "    plt.grid(True)\n",
    "    plt.legend()\n",
    "    plt.show()\n",
    "\n",
    "    plt.figure(figsize=(10, 6))\n",
    "    plt.plot(new_ws1, new_fs1, label='Interpolated Spectrum', color='green', linestyle='--', linewidth=1)\n",
    "    plt.xlabel('Wavelength (Å)', fontsize=14)\n",
    "    plt.ylabel('Flux', fontsize=14)\n",
    "    plt.title(f'Interpolated Spectrum for TARGETID {d[\"TARGETID\"][i]}', fontsize=16)\n",
    "    plt.grid(True)\n",
    "    plt.legend()\n",
    "    plt.show()\n",
    "    all_fs1.append(new_fs1)\n",
    "    '''"
   ]
  },
  {
   "cell_type": "code",
   "execution_count": 7,
   "id": "0b785c10-f58c-47a9-b0c4-493caf4c3286",
   "metadata": {
    "tags": []
   },
   "outputs": [],
   "source": [
    "all_fs1 = np.array(all_fs1)"
   ]
  },
  {
   "cell_type": "code",
   "execution_count": 8,
   "id": "5c8922e5-994d-486f-a32c-9bbec84e7b38",
   "metadata": {
    "tags": []
   },
   "outputs": [
    {
     "name": "stdout",
     "output_type": "stream",
     "text": [
      "(400880, 4413)\n"
     ]
    }
   ],
   "source": [
    "print(all_fs1.shape)"
   ]
  },
  {
   "cell_type": "code",
   "execution_count": 9,
   "id": "a82494d7-269e-45da-b1a3-5f79386923b9",
   "metadata": {
    "tags": []
   },
   "outputs": [],
   "source": [
    "dispersion = np.std(all_fs1, axis=0)"
   ]
  },
  {
   "cell_type": "code",
   "execution_count": 10,
   "id": "33ff966f-1708-4bd3-9e21-84d6218492bb",
   "metadata": {
    "tags": []
   },
   "outputs": [
    {
     "name": "stdout",
     "output_type": "stream",
     "text": [
      "(4413,)\n"
     ]
    }
   ],
   "source": [
    "print(dispersion.shape)"
   ]
  },
  {
   "cell_type": "code",
   "execution_count": 11,
   "id": "d1d67a0d-32f3-4dfd-876e-7318e0554b1b",
   "metadata": {
    "tags": []
   },
   "outputs": [
    {
     "name": "stdout",
     "output_type": "stream",
     "text": [
      "[1.32470672e+19 1.33675997e+19 1.34577757e+19 ... 5.77146416e+18\n",
      " 5.87686286e+18 5.94016273e+18]\n"
     ]
    }
   ],
   "source": [
    "print(dispersion)"
   ]
  },
  {
   "cell_type": "code",
   "execution_count": 14,
   "id": "2170c1d4-5813-497b-a1d3-a466d2b64b6c",
   "metadata": {
    "tags": []
   },
   "outputs": [
    {
     "data": {
      "image/png": "[encoded data removed]",
      "text/plain": [
       "<Figure size 1000x600 with 2 Axes>"
      ]
     },
     "metadata": {},
     "output_type": "display_data"
    }
   ],
   "source": [
    "# Define rest-frame wavelength\n",
    "restframe_ws = new_ws1 / (1 + z0)\n",
    "\n",
    "# Create the main plot\n",
    "fig, ax1 = plt.subplots(figsize=(10, 6))\n",
    "\n",
    "# Plot the dispersion with respect to the observed wavelength\n",
    "ax1.plot(new_ws1, dispersion, label='Dispersion', color='blue', linestyle='-', linewidth=1)\n",
    "ax1.set_xlabel('Observed Wavelength (Å)', fontsize=14)\n",
    "ax1.set_ylabel('Dispersion', fontsize=14)\n",
    "ax1.grid(True)\n",
    "ax1.legend(loc='upper left')\n",
    "\n",
    "# Manually set the limits for both x-axes\n",
    "obs_min, obs_max = new_ws1.min(), new_ws1.max()\n",
    "rest_min, rest_max = restframe_ws.min(), restframe_ws.max()\n",
    "\n",
    "ax1.set_xlim(obs_min, obs_max)\n",
    "\n",
    "# Create a secondary x-axis for the rest-frame wavelength\n",
    "ax2 = ax1.twiny()\n",
    "ax2.set_xlim(obs_min, obs_max)\n",
    "\n",
    "# Define the ticks for both axes\n",
    "obs_ticks = np.linspace(obs_min, obs_max, num=10)\n",
    "rest_ticks = obs_ticks / (1 + z0)\n",
    "\n",
    "# Set the ticks and labels for the primary x-axis (observed wavelength)\n",
    "ax1.set_xticks(obs_ticks)\n",
    "ax1.set_xticklabels(np.round(obs_ticks, 1).astype(int))\n",
    "\n",
    "# Set the ticks and labels for the secondary x-axis (rest-frame wavelength)\n",
    "ax2.set_xticks(obs_ticks)\n",
    "ax2.set_xticklabels(np.round(rest_ticks, 1).astype(int))\n",
    "ax2.set_xlabel('Rest-frame Wavelength (Å)', fontsize=14)\n",
    "\n",
    "plt.show()"
   ]
  },
  {
   "cell_type": "code",
   "execution_count": null,
   "id": "a05ff6e5-a3ae-4b9f-aab9-1a59b757feac",
   "metadata": {},
   "outputs": [],
   "source": []
  }
 ],
 "metadata": {
  "kernelspec": {
   "display_name": "DESI main",
   "language": "python",
   "name": "desi-main"
  },
  "language_info": {
   "codemirror_mode": {
    "name": "ipython",
    "version": 3
   },
   "file_extension": ".py",
   "mimetype": "text/x-python",
   "name": "python",
   "nbconvert_exporter": "python",
   "pygments_lexer": "ipython3",
   "version": "3.10.14"
  }
 },
 "nbformat": 4,
 "nbformat_minor": 5
}
