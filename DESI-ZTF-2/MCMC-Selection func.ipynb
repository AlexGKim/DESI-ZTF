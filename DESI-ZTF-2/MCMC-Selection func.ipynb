{
 "cells": [
  {
   "cell_type": "code",
   "execution_count": 1,
   "id": "ab11f7bf-19d7-4806-911c-04f111e01405",
   "metadata": {
    "tags": []
   },
   "outputs": [],
   "source": [
    "import numpy as np\n",
    "import numpyro\n",
    "import numpyro.distributions as dist\n",
    "from jax import random\n",
    "from numpyro.infer import MCMC, HMC,NUTS\n",
    "import fitsio\n",
    "import matplotlib as mpl\n",
    "from multiprocessing import Pool\n",
    "from scipy.stats import dirichlet\n",
    "from astropy.table import Table\n",
    "from astropy.io import fits\n",
    "import fitsio\n",
    "from astropy.cosmology import Planck18\n",
    "import jax.numpy as jnp\n",
    "import matplotlib.pyplot as plt\n",
    "from numpyro import handlers \n",
    "from jax import random, jit\n",
    "import jax\n",
    "from fitting import abs_mag_to_L,get_lfpars_shen20,T0,T1,T2,get_lfpars,get_phis\n",
    "from jax import random, vmap\n",
    "from jax.scipy.stats import norm\n",
    "import numpyro.distributions as dist"
   ]
  },
  {
   "cell_type": "code",
   "execution_count": 2,
   "id": "d9dbd732-ce13-474e-a8ca-6317a3024a16",
   "metadata": {
    "tags": []
   },
   "outputs": [
    {
     "name": "stdout",
     "output_type": "stream",
     "text": [
      "JAX version: 0.4.30\n",
      "JAX is using CUDA: gpu\n",
      "jax_enable_x64: True\n"
     ]
    }
   ],
   "source": [
    "# Verify the installation\n",
    "print(\"JAX version:\", jax.__version__)\n",
    "print(\"JAX is using CUDA:\", jax.lib.xla_bridge.get_backend().platform)\n",
    "\n",
    "# Enable 64-bit floating point precision\n",
    "jax.config.update(\"jax_enable_x64\", True)\n",
    "\n",
    "# Verify the update\n",
    "print(\"jax_enable_x64:\", jax.config.read(\"jax_enable_x64\"))"
   ]
  },
  {
   "cell_type": "code",
   "execution_count": 3,
   "id": "408dc985-acc8-4c52-80a8-ae37475a1315",
   "metadata": {
    "tags": []
   },
   "outputs": [
    {
     "name": "stdout",
     "output_type": "stream",
     "text": [
      "Available devices: [cuda(id=0)]\n"
     ]
    },
    {
     "name": "stderr",
     "output_type": "stream",
     "text": [
      "2024-06-19 12:35:37.257459: W external/xla/xla/service/gpu/nvptx_compiler.cc:765] The NVIDIA driver's CUDA version is 12.0 which is older than the ptxas CUDA version (12.4.131). Because the driver is older than the ptxas version, XLA is disabling parallel compilation, which may slow down compilation. You should update your NVIDIA driver or use the NVIDIA-provided CUDA forward compatibility packages.\n"
     ]
    },
    {
     "name": "stdout",
     "output_type": "stream",
     "text": [
      "Computation result: [1. 4. 9.]\n"
     ]
    }
   ],
   "source": [
    "# Check available devices\n",
    "print(\"Available devices:\", jax.devices())\n",
    "\n",
    "# Simple CPU computation test\n",
    "x = jnp.array([1.0, 2.0, 3.0])\n",
    "y = jax.device_put(x, jax.devices('gpu')[0])\n",
    "z = y ** 2\n",
    "print(\"Computation result:\", z)"
   ]
  },
  {
   "cell_type": "code",
   "execution_count": 4,
   "id": "df9e48fa-4f1e-40a1-a545-e33abc865170",
   "metadata": {
    "tags": []
   },
   "outputs": [],
   "source": [
    "k = Table.read('/pscratch/sd/z/zhaozhon/DATASET/DESI-data/k.csv',format='csv')\n",
    "indice = np.isnan(k['k_gg']) | np.isinf(k['k_gg']) | np.isnan(k['k_rr']) | np.isinf(k['k_rr'])\n",
    "k_gg = k['k_gg'][~indice]\n",
    "k_rr = k['k_rr'][~indice]"
   ]
  },
  {
   "cell_type": "code",
   "execution_count": 5,
   "id": "adf99b5b-c388-44bd-be2b-5f1912857786",
   "metadata": {
    "tags": []
   },
   "outputs": [],
   "source": [
    "file = '/pscratch/sd/z/zhaozhon/DATASET/DESI-data/new_d.fits'\n",
    "d = Table(fitsio.read(file))\n",
    "SEL = np.where((d['Z'] > 2.3) & (d['Z'] < 2.8))[0]\n",
    "apr_mag_g = d['APP_MAG_G'][SEL][~indice]\n",
    "apr_mag_g_err = d['APP_MAGERR_G'][SEL][~indice]\n",
    "apr_mag_r = d['APP_MAG_R'][SEL][~indice]\n",
    "apr_mag_r_err = d['APP_MAGERR_R'][SEL][~indice]\n",
    "z = d['Z'][SEL][~indice]"
   ]
  },
  {
   "cell_type": "code",
   "execution_count": 6,
   "id": "ad2c5861-3949-4df5-8cff-19fdb83295a3",
   "metadata": {
    "tags": []
   },
   "outputs": [],
   "source": [
    "d = Planck18.distmod(z).value"
   ]
  },
  {
   "cell_type": "code",
   "execution_count": 7,
   "id": "79c811db-05e9-419a-81c6-39fb31653ff3",
   "metadata": {
    "tags": []
   },
   "outputs": [],
   "source": [
    "apr_mag_g = apr_mag_g.astype(np.float64)\n",
    "apr_mag_g_err = apr_mag_g_err.astype(np.float64)\n",
    "k_gg = k_gg.astype(np.float64)\n",
    "\n",
    "apr_mag_r = apr_mag_r.astype(np.float64)\n",
    "apr_mag_r_err = apr_mag_r_err.astype(np.float64)\n",
    "k_rr = k_rr.astype(np.float64)\n",
    "\n",
    "d = d.astype(np.float64)\n",
    "z = z.astype(np.float64)"
   ]
  },
  {
   "cell_type": "code",
   "execution_count": 8,
   "id": "bfc4cc75-6a5b-4719-a95d-dc52986be704",
   "metadata": {
    "tags": []
   },
   "outputs": [],
   "source": [
    "import jax.numpy as jnp\n",
    "import numpyro\n",
    "import numpyro.distributions as dist\n",
    "from jax import vmap, random\n",
    "from jax.scipy.stats import norm\n",
    "from numpyro.infer import MCMC, NUTS\n",
    "\n",
    "# Efficiency function with epsilon to avoid division by zero\n",
    "def efficiency(x, m0):\n",
    "    return jnp.where(x < m0, 1, m0 / x)\n",
    "\n",
    "# Normalization coefficient\n",
    "def normalization_coefficient(k, d, magerr, M_T, z, x, m0):\n",
    "    L = abs_mag_to_L(M_T + x)\n",
    "    lum_func = get_phis(L, z, \"shen20\")\n",
    "    \n",
    "    # Simplified integral when y < m0\n",
    "    erf_term = 0.5 * (1 + jax.scipy.special.erf((m0 - (M_T + k + d)) / (jnp.sqrt(2) * magerr)))\n",
    "    integral_less = (1 / jnp.sqrt(2 * jnp.pi * magerr**2)) * lum_func * erf_term\n",
    "    \n",
    "    # Simplified integral when y > m0\n",
    "    def integrand(y):\n",
    "        return jnp.exp(-0.5 * ((y - (M_T + k + d)) / magerr)**2) / y\n",
    "    \n",
    "    y_greater = jnp.linspace(m0, 100, k.shape[0])  # Adjust the range and number of points as needed\n",
    "    integral_greater = (1 / jnp.sqrt(2 * jnp.pi * magerr**2)) * lum_func * jnp.trapezoid(integrand(y_greater), y_greater)\n",
    "    \n",
    "    # Combine the two parts\n",
    "    integral = integral_less + integral_greater\n",
    "    return 1 / integral\n",
    "\n",
    "# Combined probability density function\n",
    "def combined_log_probability_density(M_T, k, d, x, mag_apr, magerr, z, m0):\n",
    "    log_normal_dist = norm.logpdf(mag_apr, loc=M_T + k + d, scale=magerr)\n",
    "    L = abs_mag_to_L(M_T + x)\n",
    "    log_lum_func = jnp.log(get_phis(L, z, \"shen20\"))\n",
    "    log_eff_func = jnp.log(efficiency(mag_apr, m0))\n",
    "    log_norm_coeff = jnp.log(normalization_coefficient(k, d, magerr, M_T, z, x, m0))\n",
    "    return log_normal_dist + log_lum_func + log_eff_func + log_norm_coeff\n",
    "\n",
    "# Model function\n",
    "def model(k, d, mag_apr, magerr, z):\n",
    "    # Priors for the parameters\n",
    "    x = numpyro.sample('x', dist.Uniform(-10, 10))\n",
    "    m0 = numpyro.sample('m0', dist.Uniform(0.1, 30))  # Adjusted prior range\n",
    "\n",
    "    # Sample M_T for each data point\n",
    "    M_T = numpyro.sample('M_T', dist.Uniform(-40, 0).expand([len(k)]))  # Adjust the range as needed\n",
    "\n",
    "    # Compute the log-likelihood for each data point\n",
    "    log_likelihoods = combined_log_probability_density(M_T, k, d, x, mag_apr, magerr, z, m0)\n",
    "\n",
    "    # Sum of log-likelihoods\n",
    "    total_log_likelihood = jnp.sum(log_likelihoods)\n",
    "\n",
    "    # Observation likelihood\n",
    "    numpyro.factor('obs', total_log_likelihood)"
   ]
  },
  {
   "cell_type": "code",
   "execution_count": null,
   "id": "ba6b9ad2-5094-4e50-8cc3-b99f224026e4",
   "metadata": {
    "tags": []
   },
   "outputs": [
    {
     "name": "stderr",
     "output_type": "stream",
     "text": [
      "sample:  83%|████████▎ | 8318/10000 [1:14:41<15:24,  1.82it/s, 1023 steps of size 9.16e-07. acc. prob=0.83]"
     ]
    }
   ],
   "source": [
    "# Initialize RNG\n",
    "rng_key = random.PRNGKey(0)\n",
    "\n",
    "# Sampler configuration\n",
    "num_warmup, num_samples = 7000, 3000\n",
    "i_start = 20000\n",
    "i_end = i_start+1000\n",
    "# Initialize batch parameters for the entire dataset\n",
    "'''\n",
    "init_params = {\n",
    "    'x': -2 * jnp.ones((1,)),  \n",
    "    'm0': 15 * jnp.ones((1,)),  \n",
    "}\n",
    "'''\n",
    "# Set up the NUTS sampler\n",
    "kernel = NUTS(model, target_accept_prob=0.8)\n",
    "#kernel = HMC(model)\n",
    "mcmc = MCMC(kernel, num_warmup=num_warmup, num_samples=num_samples, num_chains=1, jit_model_args=True, progress_bar=True)\n",
    "\n",
    "# Run the sampler over the entire dataset\n",
    "#mcmc.run(rng_key, apr_mag_g, apr_mag_g_err, k_gg, apr_mag_r, apr_mag_r_err, k_rr, d,z, 22.5, init_params=init_params)\n",
    "mcmc.run(rng_key, k_rr[i_start:i_end], d[i_start:i_end], apr_mag_r[i_start:i_end], apr_mag_r_err[i_start:i_end], z[i_start:i_end])\n",
    "\n",
    "# Get samples\n",
    "samples = mcmc.get_samples()\n",
    "\n",
    "# Optionally, process or save your samples\n",
    "print(samples)"
   ]
  },
  {
   "cell_type": "code",
   "execution_count": null,
   "id": "8e7b23db-a98b-4cc1-a139-d083422cfe49",
   "metadata": {
    "tags": []
   },
   "outputs": [],
   "source": [
    "# Extract the chains and parameters\n",
    "x = samples['x']\n",
    "m0 = samples['m0']\n",
    "\n",
    "# Creating a figure to hold the subplots\n",
    "fig, axs = plt.subplots(2, 2, figsize=(12, 24))  # 7 parameters, each with a histogram and trace plot\n",
    "\n",
    "# Helper function to plot histograms and traces\n",
    "def plot_param(ax, data, title):\n",
    "    ax[0].hist(data, bins=100, alpha=0.75, color='blue')\n",
    "    ax[0].set_title(f'Posterior Distribution of {title}')\n",
    "    ax[1].plot(data, color='blue')\n",
    "    ax[1].set_title(f'Trace of {title}')\n",
    "\n",
    "# Plotting each parameter\n",
    "plot_param(axs[0], x, 'x')\n",
    "plot_param(axs[1], m0, 'm0')\n",
    "# Adjust layout to prevent overlap\n",
    "plt.tight_layout()\n",
    "plt.show()"
   ]
  },
  {
   "cell_type": "code",
   "execution_count": null,
   "id": "0610e774-50d1-44e2-bd21-05f94a30265a",
   "metadata": {},
   "outputs": [],
   "source": [
    "import corner\n",
    "# Extract samples for plotting\n",
    "samples = np.vstack((x, m0)).T\n",
    "\n",
    "# Create a corner plot\n",
    "fig = corner.corner(samples, labels=['x', 'm0'], \n",
    "                    show_titles=True,quantiles=[0.16, 0.5, 0.84],\n",
    "                       plot_contours=True, color='blue', title_kwargs={\"fontsize\": 12},title_fmt=\".4f\")\n",
    "\n",
    "fig.suptitle('Corner Plot of Parameters')\n",
    "fig.show()"
   ]
  },
  {
   "cell_type": "code",
   "execution_count": null,
   "id": "9dec0576-825f-4d3e-a8ad-8871937df0fb",
   "metadata": {},
   "outputs": [],
   "source": []
  }
 ],
 "metadata": {
  "kernelspec": {
   "display_name": "pytorch-2.0.1",
   "language": "python",
   "name": "pytorch-2.0.1"
  },
  "language_info": {
   "codemirror_mode": {
    "name": "ipython",
    "version": 3
   },
   "file_extension": ".py",
   "mimetype": "text/x-python",
   "name": "python",
   "nbconvert_exporter": "python",
   "pygments_lexer": "ipython3",
   "version": "3.9.16"
  }
 },
 "nbformat": 4,
 "nbformat_minor": 5
}
