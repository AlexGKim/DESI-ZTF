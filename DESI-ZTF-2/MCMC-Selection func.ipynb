{
 "cells": [
  {
   "cell_type": "code",
   "execution_count": 1,
   "id": "ab11f7bf-19d7-4806-911c-04f111e01405",
   "metadata": {
    "tags": []
   },
   "outputs": [],
   "source": [
    "import numpy as np\n",
    "import numpyro\n",
    "import numpyro.distributions as dist\n",
    "from jax import random\n",
    "from numpyro.infer import MCMC, HMC,NUTS\n",
    "import fitsio\n",
    "import matplotlib as mpl\n",
    "from multiprocessing import Pool\n",
    "from scipy.stats import dirichlet\n",
    "from astropy.table import Table\n",
    "from astropy.io import fits\n",
    "import fitsio\n",
    "from astropy.cosmology import Planck18\n",
    "import jax.numpy as jnp\n",
    "import matplotlib.pyplot as plt\n",
    "from numpyro import handlers \n",
    "from jax import random, jit,vmap\n",
    "import jax\n",
    "from fitting import abs_mag_to_L,get_lfpars_shen20,T0,T1,T2,get_lfpars,get_phis\n",
    "from jax import random, vmap\n",
    "from jax.scipy.stats import norm\n",
    "import numpyro.distributions as dist\n",
    "from jax.scipy.special import gammaln\n",
    "from astropy.cosmology import WMAP9 as cosmo\n",
    "from scipy.optimize import curve_fit, brentq\n",
    "import fitting"
   ]
  },
  {
   "cell_type": "code",
   "execution_count": 2,
   "id": "df9e48fa-4f1e-40a1-a545-e33abc865170",
   "metadata": {
    "tags": []
   },
   "outputs": [],
   "source": [
    "k = Table.read('/pscratch/sd/z/zhaozhon/DATASET/DESI-data/k.csv',format='csv')\n",
    "indice = np.isnan(k['k_gg']) | np.isinf(k['k_gg']) | np.isnan(k['k_rr']) | np.isinf(k['k_rr'])\n",
    "k_gg = k['k_gg'][~indice]\n",
    "k_rr = k['k_rr'][~indice]"
   ]
  },
  {
   "cell_type": "code",
   "execution_count": 3,
   "id": "adf99b5b-c388-44bd-be2b-5f1912857786",
   "metadata": {
    "tags": []
   },
   "outputs": [],
   "source": [
    "file = '/pscratch/sd/z/zhaozhon/DATASET/DESI-data/new_d.fits'\n",
    "d = Table(fitsio.read(file))\n",
    "SEL = np.where((d['Z'] > 2.3) & (d['Z'] < 2.8))[0]\n",
    "TARGETID = d['TARGETID'][SEL][~indice]\n",
    "apr_mag_g = d['APP_MAG_G'][SEL][~indice]\n",
    "apr_mag_g_err = d['APP_MAGERR_G'][SEL][~indice]\n",
    "apr_mag_r = d['APP_MAG_R'][SEL][~indice]\n",
    "apr_mag_r_err = d['APP_MAGERR_R'][SEL][~indice]\n",
    "z_desi = d['Z'][SEL][~indice]"
   ]
  },
  {
   "cell_type": "code",
   "execution_count": 4,
   "id": "ad2c5861-3949-4df5-8cff-19fdb83295a3",
   "metadata": {
    "tags": []
   },
   "outputs": [],
   "source": [
    "d_desi = Planck18.distmod(z_desi).value"
   ]
  },
  {
   "cell_type": "code",
   "execution_count": 5,
   "id": "6cff6db2-88f5-445a-9fc6-045e24bb9d9a",
   "metadata": {
    "tags": []
   },
   "outputs": [
    {
     "name": "stdout",
     "output_type": "stream",
     "text": [
      "157741\n"
     ]
    }
   ],
   "source": [
    "TARGETID, indices = np.unique(TARGETID, return_index=True)\n",
    "apr_mag_g = apr_mag_g[indices]\n",
    "apr_mag_g_err = apr_mag_g_err[indices]\n",
    "apr_mag_r = apr_mag_r[indices]\n",
    "apr_mag_r_err = apr_mag_r_err[indices]\n",
    "d_desi = d_desi[indices]\n",
    "z_desi = z_desi[indices]\n",
    "k_gg = k_gg[indices]\n",
    "k_rr = k_rr[indices]\n",
    "N_obs = TARGETID.shape[0]\n",
    "print(N_obs)"
   ]
  },
  {
   "cell_type": "code",
   "execution_count": 6,
   "id": "281ee776-508f-4a7e-9d83-e53a8100f025",
   "metadata": {},
   "outputs": [
    {
     "name": "stdout",
     "output_type": "stream",
     "text": [
      "4434\n"
     ]
    }
   ],
   "source": [
    "# Assuming z_desi is your redshift array\n",
    "filter_mask = (z_desi > 2.3) & (z_desi < 2.31)\n",
    "\n",
    "# Apply the filter to all arrays\n",
    "TARGETID = TARGETID[filter_mask]\n",
    "#apr_mag_g = apr_mag_g[filter_mask]\n",
    "#apr_mag_g_err = apr_mag_g_err[filter_mask]\n",
    "apr_mag_r = apr_mag_r[filter_mask]\n",
    "apr_mag_r_err = apr_mag_r_err[filter_mask]\n",
    "d_desi = d_desi[filter_mask]\n",
    "z_desi = z_desi[filter_mask]\n",
    "#k_gg = k_gg[filter_mask]\n",
    "k_rr = k_rr[filter_mask]\n",
    "\n",
    "# Recalculate N_obs after filtering\n",
    "N_obs = TARGETID.shape[0]\n",
    "print(N_obs)"
   ]
  },
  {
   "cell_type": "code",
   "execution_count": 7,
   "id": "79c811db-05e9-419a-81c6-39fb31653ff3",
   "metadata": {
    "tags": []
   },
   "outputs": [],
   "source": [
    "apr_mag_g = apr_mag_g.astype(np.float64)\n",
    "apr_mag_g_err = apr_mag_g_err.astype(np.float64)\n",
    "k_gg = k_gg.astype(np.float64)\n",
    "\n",
    "apr_mag_r = apr_mag_r.astype(np.float64)\n",
    "apr_mag_r_err = apr_mag_r_err.astype(np.float64)\n",
    "k_rr = k_rr.astype(np.float64)\n",
    "\n",
    "d_desi = d_desi.astype(np.float64)\n",
    "z_desi = z_desi.astype(np.float64)"
   ]
  },
  {
   "cell_type": "code",
   "execution_count": 8,
   "id": "703a19d1-3e1e-4768-8a6b-af8b329464cd",
   "metadata": {
    "tags": []
   },
   "outputs": [
    {
     "name": "stdout",
     "output_type": "stream",
     "text": [
      "0.4783756734127197\n"
     ]
    }
   ],
   "source": [
    "print(get_phis(abs_mag_to_L(np.linspace(-40,0,100)),np.linspace(2.3,2.8,100),\"shen20\").max())"
   ]
  },
  {
   "cell_type": "code",
   "execution_count": 26,
   "id": "4287330d-89ed-413e-a625-615f471006eb",
   "metadata": {},
   "outputs": [
    {
     "name": "stdout",
     "output_type": "stream",
     "text": [
      "-1.409894 -3.5141931173975998\n",
      "0.6774358026315073\n",
      "0.9528879766404953\n",
      "845993213.8526562 6.227823720528854e-06 4.483228216492882e+46\n",
      "8589.681360311013\n"
     ]
    }
   ],
   "source": [
    "N_obs = fitting.N_obs(2.3,2.31)\n",
    "gamma1, gamma2, L_star, _ = get_lfpars_shen20(2.305)\n",
    "alpha = -(gamma1+1)\n",
    "beta = -(gamma2+1)\n",
    "print(alpha,beta)\n",
    "L_min = abs_mag_to_L(apr_mag_r.max()-k_rr.mean()-d_desi.mean()-0)/L_star\n",
    "L_max = abs_mag_to_L(apr_mag_r.min()-k_rr.mean()-d_desi.mean()-0)/L_star\n",
    "#L_max = 1000000\n",
    "\n",
    "N = N_obs(21.1,2,1.81,alpha,beta,L_min,L_max,k_rr.mean(),apr_mag_r_err.mean())\n",
    "print(N)"
   ]
  },
  {
   "cell_type": "code",
   "execution_count": 10,
   "id": "188a2d68-b054-48cd-b675-0f7ebaf7e8be",
   "metadata": {
    "tags": []
   },
   "outputs": [
    {
     "ename": "NameError",
     "evalue": "name 'N_pre' is not defined",
     "output_type": "error",
     "traceback": [
      "\u001b[0;31m---------------------------------------------------------------------------\u001b[0m",
      "\u001b[0;31mNameError\u001b[0m                                 Traceback (most recent call last)",
      "Cell \u001b[0;32mIn[10], line 3\u001b[0m\n\u001b[1;32m      1\u001b[0m i_start \u001b[38;5;241m=\u001b[39m \u001b[38;5;241m0\u001b[39m\n\u001b[1;32m      2\u001b[0m i_end \u001b[38;5;241m=\u001b[39m i_start\u001b[38;5;241m+\u001b[39m\u001b[38;5;241m1000\u001b[39m\n\u001b[0;32m----> 3\u001b[0m \u001b[38;5;28mprint\u001b[39m(N_obs,\u001b[38;5;241m0.16\u001b[39m\u001b[38;5;241m*\u001b[39m\u001b[43mN_pre\u001b[49m(m_samples, z_samples, d_samples, k_samples, comoving_volume,\u001b[38;5;241m-\u001b[39m\u001b[38;5;241m1.6050\u001b[39m, \u001b[38;5;241m17.1728\u001b[39m,\u001b[38;5;241m0.3039\u001b[39m, \u001b[38;5;241m7\u001b[39m, \u001b[38;5;241m100\u001b[39m, apr_mag_r[i_start:i_end], z_desi[i_start:i_end], k_rr[i_start:i_end]))\n\u001b[1;32m      4\u001b[0m \u001b[38;5;28mprint\u001b[39m(jnp\u001b[38;5;241m.\u001b[39msum(integral(k_rr[i_start:i_end], d_desi[i_start:i_end], \u001b[38;5;241m-\u001b[39m\u001b[38;5;241m1.8050\u001b[39m, apr_mag_r[i_start:i_end], apr_mag_r_err[i_start:i_end], z_desi[i_start:i_end], \u001b[38;5;241m18.1728\u001b[39m, \u001b[38;5;241m0.3039\u001b[39m, \u001b[38;5;241m11.9\u001b[39m,\u001b[38;5;241m200\u001b[39m)) , log_poisson(N_obs, \u001b[38;5;241m0.16\u001b[39m \u001b[38;5;241m*\u001b[39m N_pre(m_samples, z_samples, d_samples,k_samples, comoving_volume,\u001b[38;5;241m-\u001b[39m\u001b[38;5;241m1.8050\u001b[39m, \u001b[38;5;241m18.1728\u001b[39m, \u001b[38;5;241m0.3039\u001b[39m, \u001b[38;5;241m11.9\u001b[39m, \u001b[38;5;241m100\u001b[39m, apr_mag_r[i_start:i_end], z_desi[i_start:i_end], k_rr[i_start:i_end])))\n",
      "\u001b[0;31mNameError\u001b[0m: name 'N_pre' is not defined"
     ]
    }
   ],
   "source": [
    "i_start = 0\n",
    "i_end = i_start+1000\n",
    "print(N_obs,0.16*N_pre(m_samples, z_samples, d_samples, k_samples, comoving_volume,-1.6050, 17.1728,0.3039, 7, 100, apr_mag_r[i_start:i_end], z_desi[i_start:i_end], k_rr[i_start:i_end]))\n",
    "print(jnp.sum(integral(k_rr[i_start:i_end], d_desi[i_start:i_end], -1.8050, apr_mag_r[i_start:i_end], apr_mag_r_err[i_start:i_end], z_desi[i_start:i_end], 18.1728, 0.3039, 11.9,200)) , log_poisson(N_obs, 0.16 * N_pre(m_samples, z_samples, d_samples,k_samples, comoving_volume,-1.8050, 18.1728, 0.3039, 11.9, 100, apr_mag_r[i_start:i_end], z_desi[i_start:i_end], k_rr[i_start:i_end])))"
   ]
  },
  {
   "cell_type": "code",
   "execution_count": null,
   "id": "0f03ab37-934f-4594-89a8-247074966997",
   "metadata": {
    "tags": []
   },
   "outputs": [],
   "source": [
    "rng_key = random.PRNGKey(0)\n",
    "# Sampler configuration\n",
    "num_warmup, num_samples = 15000, 10000\n",
    "i_start = 0\n",
    "i_end = i_start+1000\n",
    "# Initialize batch parameters for the entire datasetw\n",
    "\n",
    "init_params = {\n",
    "    'x': -1.85 * jnp.ones((1,)),  \n",
    "    'm0': 18.69 * jnp.ones((1,)),\n",
    "    'a': 0.2 * jnp.ones((1,)),\n",
    "    'b': 12 * jnp.ones((1,)),\n",
    "    #'f': 0.16 * jnp.ones((1,)),\n",
    "}\n",
    "\n",
    "# Set up the NUTS sampler\n",
    "kernel = NUTS(model, target_accept_prob=0.8)\n",
    "#kernel = HMC(model) \n",
    "\n",
    "# Run the sampler over thswwe entire dataset\n",
    "mcmc = MCMC(kernel, num_warmup=num_warmup, num_samples=num_samples, num_chains=1, jit_model_args=True, progress_bar=True)\n",
    "#mcmc.run(rng_key, apr_mag_g, apr_mag_g_err, k_gg, apr_mag_r, apr_mag_r_err, k_rr, d,z, 22.5, init_params=init_params)\n",
    "mcmc.run(rng_key,m_samples, z_samples, d_samples,k_samples, comoving_volume, k_rr[i_start:i_end], d_desi[i_start:i_end], apr_mag_r[i_start:i_end], apr_mag_r_err[i_start:i_end], z_desi[i_start:i_end],N_obs)\n",
    "# Get samples\n",
    "samples = mcmc.get_samples()\n",
    "# Optionally, process or save your samples\n",
    "print(samples)"
   ]
  },
  {
   "cell_type": "code",
   "execution_count": null,
   "id": "8e7b23db-a98b-4cc1-a139-d083422cfe49",
   "metadata": {
    "tags": []
   },
   "outputs": [],
   "source": [
    "# Extract the chains and parameters\n",
    "x = samples['x']\n",
    "m0 = samples['m0']\n",
    "a = samples['a']\n",
    "b = samples['b']\n",
    "#f = samples['f']\n",
    "#c = samples['c']\n",
    "# Creating a figure to hold the subplots\n",
    "fig, axs = plt.subplots(4, 2, figsize=(12, 24))  \n",
    "\n",
    "# Helper function to plot histograms and traces\n",
    "def plot_param(ax, data, title):\n",
    "    ax[0].hist(data, bins=100, alpha=0.75, color='blue')\n",
    "    ax[0].set_title(f'Posterior Distribution of {title}')\n",
    "    ax[1].plot(data, color='blue')\n",
    "    ax[1].set_title(f'Trace of {title}')\n",
    "\n",
    "# Plotting each parameter\n",
    "plot_param(axs[0], x, 'x')\n",
    "plot_param(axs[1], m0, 'm0')\n",
    "plot_param(axs[2],a,'a')\n",
    "plot_param(axs[3],b,'b')\n",
    "#plot_param(axs[4],f,'f')\n",
    "#plot_param(axs[4],c,'c')\n",
    "\n",
    "# Adjust layout to prevent overlap\n",
    "plt.tight_layout()\n",
    "plt.show()"
   ]
  },
  {
   "cell_type": "code",
   "execution_count": null,
   "id": "0610e774-50d1-44e2-bd21-05f94a30265a",
   "metadata": {},
   "outputs": [],
   "source": [
    "import corner\n",
    "# Extract samples for plotting\n",
    "#samples = np.vstack((x, m0)).T\n",
    "samples = np.vstack((x,m0,a,b)).T\n",
    "# Create a corner plot\n",
    "fig = corner.corner(samples, labels=['x', 'm0','a','b'], \n",
    "                    show_titles=True,quantiles=[0.16, 0.5, 0.84],\n",
    "                       plot_contours=True, color='blue', title_kwargs={\"fontsize\": 12},title_fmt=\".4f\")\n",
    "\n",
    "fig.suptitle('Corner Plot of Parameters')\n",
    "fig.show()"
   ]
  },
  {
   "cell_type": "code",
   "execution_count": null,
   "id": "35d8b942-576c-41ef-baf0-07deb0fd4d6f",
   "metadata": {},
   "outputs": [],
   "source": []
  }
 ],
 "metadata": {
  "kernelspec": {
   "display_name": "pytorch-2.0.1",
   "language": "python",
   "name": "pytorch-2.0.1"
  },
  "language_info": {
   "codemirror_mode": {
    "name": "ipython",
    "version": 3
   },
   "file_extension": ".py",
   "mimetype": "text/x-python",
   "name": "python",
   "nbconvert_exporter": "python",
   "pygments_lexer": "ipython3",
   "version": "3.9.16"
  }
 },
 "nbformat": 4,
 "nbformat_minor": 5
}
