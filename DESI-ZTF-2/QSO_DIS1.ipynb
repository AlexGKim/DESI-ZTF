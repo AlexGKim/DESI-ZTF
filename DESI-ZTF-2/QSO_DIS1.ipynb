{
 "cells": [
  {
   "cell_type": "code",
   "execution_count": 1,
   "id": "20b68df1-1645-4b9a-82f3-ebdcb94eaa89",
   "metadata": {
    "tags": []
   },
   "outputs": [],
   "source": [
    "from fitting import abs_mag_to_L,get_lfpars_shen20,T0,T1,T2,get_lfpars,get_phis\n",
    "import numpy as np\n",
    "from matplotlib import pyplot as plt\n",
    "from astropy.table import Table\n",
    "from astropy.io import fits\n",
    "import fitsio\n",
    "from astropy.cosmology import Planck18\n",
    "from astropy.cosmology import WMAP9 as cosmo\n",
    "from mpl_toolkits.mplot3d import Axes3D\n",
    "import seaborn as sns\n",
    "from scipy.optimize import curve_fit, brentq"
   ]
  },
  {
   "cell_type": "code",
   "execution_count": 2,
   "id": "456904a8-4f5b-4c5a-8078-3c1dbc34a7f6",
   "metadata": {
    "tags": []
   },
   "outputs": [
    {
     "name": "stdout",
     "output_type": "stream",
     "text": [
      "Fraction of data that remained: 1.00\n"
     ]
    }
   ],
   "source": [
    "k = Table.read('/pscratch/sd/z/zhaozhon/DATASET/DESI-data/k.csv',format='csv')\n",
    "indice = np.isnan(k['k_gg']) | np.isinf(k['k_gg']) | np.isnan(k['k_rr']) | np.isinf(k['k_rr'])\n",
    "k_gg = k['k_gg'][~indice]\n",
    "k_rr = k['k_rr'][~indice]\n",
    "# Calculate the fraction of data that remains\n",
    "fraction_remaining = len(k_gg) / len(k['k_gg'])\n",
    "print(f\"Fraction of data that remained: {fraction_remaining:.2f}\")"
   ]
  },
  {
   "cell_type": "code",
   "execution_count": 3,
   "id": "a426d644-c9eb-40d8-a513-a20aca7f9d1a",
   "metadata": {
    "tags": []
   },
   "outputs": [],
   "source": [
    "file = '/pscratch/sd/z/zhaozhon/DATASET/DESI-data/new_d.fits'\n",
    "d = Table(fitsio.read(file))\n",
    "SEL = np.where((d['Z'] > 2.3) & (d['Z'] < 2.8))[0]\n",
    "apr_mag_g = d['APP_MAG_G'][SEL][~indice]\n",
    "apr_mag_g_err = d['APP_MAGERR_G'][SEL][~indice]\n",
    "apr_mag_r = d['APP_MAG_R'][SEL][~indice]\n",
    "apr_mag_r_err = d['APP_MAGERR_R'][SEL][~indice]\n",
    "z_desi = d['Z'][SEL][~indice]\n",
    "TARGETID = d['TARGETID'][SEL][~indice]\n",
    "d_desi = Planck18.distmod(z_desi).value\n",
    "volume = cosmo.comoving_volume(z_desi).value"
   ]
  },
  {
   "cell_type": "code",
   "execution_count": 4,
   "id": "7956d185-b95f-4a43-8fa1-dbee358f06d7",
   "metadata": {
    "tags": []
   },
   "outputs": [
    {
     "data": {
      "text/plain": [
       "[<matplotlib.lines.Line2D at 0x7faae034c7c0>]"
      ]
     },
     "execution_count": 4,
     "metadata": {},
     "output_type": "execute_result"
    },
    {
     "data": {
      "image/png": "[encoded data removed]",
      "text/plain": [
       "<Figure size 640x480 with 1 Axes>"
      ]
     },
     "metadata": {},
     "output_type": "display_data"
    }
   ],
   "source": [
    "plt.plot(z_desi,volume)"
   ]
  },
  {
   "cell_type": "code",
   "execution_count": 5,
   "id": "d3d61f82-a590-42f4-bb23-8fe5a636ec92",
   "metadata": {
    "tags": []
   },
   "outputs": [
    {
     "name": "stdout",
     "output_type": "stream",
     "text": [
      "[6.73282192e+11 7.26267986e+11 7.79531487e+11 8.32962198e+11]\n"
     ]
    }
   ],
   "source": [
    "print(cosmo.comoving_volume(np.array([2.1,2.2,2.3,2.4])).value)"
   ]
  },
  {
   "cell_type": "code",
   "execution_count": 6,
   "id": "a93de881-1ec6-4b7e-8c8f-c4001ecc48f3",
   "metadata": {
    "tags": []
   },
   "outputs": [],
   "source": [
    "TARGETID, indices = np.unique(TARGETID, return_index=True)\n",
    "apr_mag_g = apr_mag_g[indices]\n",
    "apr_mag_g_err = apr_mag_g_err[indices]\n",
    "apr_mag_r = apr_mag_r[indices]\n",
    "apr_mag_r_err = apr_mag_r_err[indices]\n",
    "d_desi = d_desi[indices]\n",
    "z_desi = z_desi[indices]\n",
    "k_gg = k_gg[indices]\n",
    "k_rr = k_rr[indices]"
   ]
  },
  {
   "cell_type": "code",
   "execution_count": 7,
   "id": "cdfd2f34-efa8-4d69-a6d1-c081093ca66a",
   "metadata": {
    "tags": []
   },
   "outputs": [
    {
     "name": "stdout",
     "output_type": "stream",
     "text": [
      "(157741,)\n"
     ]
    }
   ],
   "source": [
    "print(TARGETID.shape)"
   ]
  },
  {
   "cell_type": "code",
   "execution_count": 8,
   "id": "6a47882e-61e1-4f5f-bef7-e3e7a909fb50",
   "metadata": {
    "tags": []
   },
   "outputs": [],
   "source": [
    "mag_r_bins = np.linspace(np.min(apr_mag_r), np.max(apr_mag_r), 30)\n",
    "z_bins = np.linspace(np.min(z_desi), np.max(z_desi), 10)\n",
    "counts_r,z_edges,mag_r_edges= np.histogram2d(z_desi, apr_mag_r, bins=[z_bins, mag_r_bins])"
   ]
  },
  {
   "cell_type": "code",
   "execution_count": 9,
   "id": "b687d836-5935-4d2f-a7a0-75f15934a622",
   "metadata": {
    "tags": []
   },
   "outputs": [],
   "source": [
    "mag_r_bin_widths = np.diff(mag_r_bins)[0]  # Differences between consecutive bin edges for magnitude\n",
    "z_bin_widths = np.diff(z_bins)[0]          # Differences between consecutive bin edges for redshift"
   ]
  },
  {
   "cell_type": "code",
   "execution_count": 10,
   "id": "40d5a863-7dbf-49ab-be9c-7536176be47d",
   "metadata": {
    "tags": []
   },
   "outputs": [],
   "source": [
    "def comoving_volume(z1,z2):\n",
    "    \"\"\"\n",
    "    Calculate the comoving volume between two redshifts.\n",
    "    \n",
    "    Args:\n",
    "        z1 (float): Lower redshift bound\n",
    "        z2 (float): Upper redshift bound\n",
    "    \n",
    "    Returns:\n",
    "        float: Comoving volume in cubic megaparsecs (Mpc^3)\n",
    "    \"\"\"\n",
    "    #d1 = cosmo.comoving_distance(z1).value# Mpc\n",
    "    #d2 = cosmo.comoving_distance(z2).value# Mpc\n",
    "    return cosmo.comoving_volume(z2).value-cosmo.comoving_volume(z1).value"
   ]
  },
  {
   "cell_type": "code",
   "execution_count": 11,
   "id": "458a7411-e63c-4942-b3e7-b683d4b27b80",
   "metadata": {
    "tags": []
   },
   "outputs": [
    {
     "data": {
      "text/plain": [
       "267065024978.4026"
      ]
     },
     "execution_count": 11,
     "metadata": {},
     "output_type": "execute_result"
    }
   ],
   "source": [
    "comoving_volume(2.3,2.8)"
   ]
  },
  {
   "cell_type": "code",
   "execution_count": 12,
   "id": "5b4078d9-5fc2-43e2-aebf-6436a9f64b40",
   "metadata": {
    "tags": []
   },
   "outputs": [],
   "source": [
    "phi_r = np.zeros_like(counts_r)\n",
    "volumes = np.array([comoving_volume(z_edges[i], z_edges[i+1]) for i in range(len(z_edges)-1)]) \n",
    "delta_m_r = np.diff(mag_r_bins)\n",
    "x=0\n",
    "for i in range(len(z_bins)-1):\n",
    "    for j in range(len(mag_r_bins)-1):\n",
    "        phi_r[i, j] = counts_r[i, j] / (volumes[i] * delta_m_r[j])/0.16\n",
    "        #print(phi_r[i,j],counts_r[i,j],volumes[i],delta_m_r[j])\n",
    "#print(phi_r.shape,x)"
   ]
  },
  {
   "cell_type": "code",
   "execution_count": 13,
   "id": "6044fcf2-0553-429f-90bd-61e102cc1de9",
   "metadata": {
    "tags": []
   },
   "outputs": [],
   "source": [
    "def phi1(m,z1, z2):\n",
    "    indices = np.where((z_desi > z1) & (z_desi < z2))\n",
    "    k_mean = np.mean(k_rr[indices])\n",
    "    new_z = (z1+z2)/2\n",
    "    new_d = Planck18.distmod(new_z).value\n",
    "    L = abs_mag_to_L(m - k_mean - new_d-1.7736)\n",
    "    #print(L)\n",
    "    phi1 = 0.4*get_phis(L,new_z,\"shen20\")\n",
    "    return phi1"
   ]
  },
  {
   "cell_type": "code",
   "execution_count": 14,
   "id": "41fff2fb-420d-4ca1-b14a-794b774a6c1b",
   "metadata": {
    "tags": []
   },
   "outputs": [],
   "source": [
    "phi_r_prediction = np.zeros((len(z_bins)-1, len(mag_r_bins)-1))\n",
    "\n",
    "for i in range(len(z_bins)-1):    \n",
    "    for j in range(len(mag_r_bins)-1):\n",
    "        m_mid = 0.5 * (mag_r_bins[j] + mag_r_bins[j+1])\n",
    "        phi_r_prediction[i,j] = phi1(m_mid,z_bins[i],z_bins[i+1])"
   ]
  },
  {
   "cell_type": "code",
   "execution_count": 15,
   "id": "906f3c6b-3089-407b-9d3a-0b0335e527f2",
   "metadata": {
    "tags": []
   },
   "outputs": [
    {
     "name": "stdout",
     "output_type": "stream",
     "text": [
      "160199490348947.66 11.225441686469736 1.0 1.0 1.0\n"
     ]
    },
    {
     "name": "stderr",
     "output_type": "stream",
     "text": [
      "/global/common/software/desi/perlmutter/desiconda/20240425-2.2.0/conda/lib/python3.10/site-packages/scipy/optimize/_minpack_py.py:833: OptimizeWarning: Covariance of the parameters could not be estimated\n",
      "  warnings.warn('Covariance of the parameters could not be estimated',\n"
     ]
    },
    {
     "data": {
      "image/png": "[encoded data removed]",
      "text/plain": [
       "<Figure size 640x480 with 1 Axes>"
      ]
     },
     "metadata": {},
     "output_type": "display_data"
    }
   ],
   "source": [
    "# Define the function with two parameters\n",
    "def func(x, a, b,c,d,e):\n",
    "    return a*x**(-b)\n",
    "\n",
    "# Calculate the central values of the bins\n",
    "mag_r_cens = 0.5 * (mag_r_bins[1:] + mag_r_bins[:-1])\n",
    "\n",
    "# Calculate the ratio\n",
    "ratio = np.mean(phi_r / phi_r_prediction, axis=0)\n",
    "\n",
    "# Plot the initial scatter plot\n",
    "plt.scatter(mag_r_cens, ratio)\n",
    "\n",
    "# Apply a filter to select the desired indices\n",
    "indices = (mag_r_cens > 18.615866235231778) \n",
    "plt.scatter(mag_r_cens[indices], ratio[indices])\n",
    "\n",
    "# Fit the curve to the filtered data\n",
    "popt, pcov = curve_fit(func, mag_r_cens[indices], ratio[indices], maxfev=24000)\n",
    "\n",
    "# Unpack the fitted parameters\n",
    "a, b, c, d, e= popt\n",
    "print(a, b, c, d, e)\n",
    "\n",
    "#plt.plot(x_fit, y_fit, label='Fitted Function', color='red')"
   ]
  },
  {
   "cell_type": "code",
   "execution_count": 16,
   "id": "c072de40-fb48-49c2-88b3-e4570d581943",
   "metadata": {
    "tags": []
   },
   "outputs": [
    {
     "name": "stdout",
     "output_type": "stream",
     "text": [
      "22.915232263762377\n"
     ]
    }
   ],
   "source": [
    "print(mag_r_cens.max())"
   ]
  },
  {
   "cell_type": "code",
   "execution_count": 17,
   "id": "55e43aae-f31d-45be-8c6e-04fcbc566a8f",
   "metadata": {
    "tags": []
   },
   "outputs": [
    {
     "name": "stdout",
     "output_type": "stream",
     "text": [
      "The value of x that makes y = 1 is approximately: 18.42463366212799\n"
     ]
    },
    {
     "data": {
      "image/png": "[encoded data removed]",
      "text/plain": [
       "<Figure size 640x480 with 1 Axes>"
      ]
     },
     "metadata": {},
     "output_type": "display_data"
    }
   ],
   "source": [
    "def equation_to_solve(x):\n",
    "    return func(x, a, b, c, d, e) - 1\n",
    "x_min = 18  # start a bit above zero to avoid division by zero\n",
    "x_max = 24\n",
    "\n",
    "try:\n",
    "    x_solution = brentq(equation_to_solve, x_min, x_max)\n",
    "    print(f\"The value of x that makes y = 1 is approximately: {x_solution}\")\n",
    "except ValueError as e:\n",
    "    print(f\"Root-finding algorithm did not converge: {e}\")\n",
    "\n",
    "# Plot the original data points\n",
    "plt.scatter(mag_r_cens[indices], ratio[indices], label='Data Points')\n",
    "\n",
    "# Plot the fitted function\n",
    "x_fit = np.linspace(mag_r_cens[indices].min(), mag_r_cens[indices].max(), 100)\n",
    "y_fit = func(x_fit, *popt)\n",
    "plt.plot(x_fit, y_fit, label='Fitted Function', color='red')\n",
    "\n",
    "# Highlight the solution point if found\n",
    "if 'x_solution' in locals():\n",
    "    plt.scatter([x_solution], [1], color='green', zorder=5, label='y = 1 Solution')\n",
    "\n",
    "plt.legend()\n",
    "plt.xlabel('x')\n",
    "plt.ylabel('y')\n",
    "plt.title('Curve Fitting with Negative Powers from -1 to -5')\n",
    "plt.show()"
   ]
  },
  {
   "cell_type": "code",
   "execution_count": 18,
   "id": "ada6d164-62e2-4216-98fa-ea4d06ee0f77",
   "metadata": {
    "tags": []
   },
   "outputs": [
    {
     "name": "stdout",
     "output_type": "stream",
     "text": [
      "0.9064601063242714\n"
     ]
    }
   ],
   "source": [
    "print(ratio[mag_r_cens<18.538539817149537].mean())"
   ]
  },
  {
   "cell_type": "code",
   "execution_count": 19,
   "id": "bf43c351-215f-4a06-af4a-604939a361a6",
   "metadata": {
    "tags": []
   },
   "outputs": [
    {
     "data": {
      "text/plain": [
       "[<matplotlib.lines.Line2D at 0x7faadf978760>]"
      ]
     },
     "execution_count": 19,
     "metadata": {},
     "output_type": "execute_result"
    },
    {
     "data": {
      "image/png": "[encoded data removed]",
      "text/plain": [
       "<Figure size 640x480 with 1 Axes>"
      ]
     },
     "metadata": {},
     "output_type": "display_data"
    }
   ],
   "source": [
    "x_fit = np.linspace(mag_r_cens.min(), mag_r_cens.max(), 100)\n",
    "y_fit = func(x_fit, *popt)\n",
    "a, b ,c,d,e= popt\n",
    "plt.scatter(mag_r_cens[indices],ratio[indices])\n",
    "plt.plot(x_fit, y_fit, label='Fitted Function', color='red')"
   ]
  },
  {
   "cell_type": "code",
   "execution_count": 22,
   "id": "1f3d845a-ee80-4673-a06d-316ac7f46842",
   "metadata": {
    "tags": []
   },
   "outputs": [],
   "source": [
    "def efficiency(x, m0=18.1183, a = 2202930218756389.5, b=12.2162):\n",
    "    return np.where(x < m0, 1,a*x**(-b)-a*m0**(-b)+1)"
   ]
  },
  {
   "cell_type": "code",
   "execution_count": 23,
   "id": "3355dbf3-667b-4284-b96b-7f7e9d6eb7d9",
   "metadata": {
    "tags": []
   },
   "outputs": [
    {
     "data": {
      "text/plain": [
       "Text(0.5, 1.0, 'Selection Function vs Magnitude')"
      ]
     },
     "execution_count": 23,
     "metadata": {},
     "output_type": "execute_result"
    },
    {
     "data": {
      "image/png": "[encoded data removed]",
      "text/plain": [
       "<Figure size 640x480 with 1 Axes>"
      ]
     },
     "metadata": {},
     "output_type": "display_data"
    }
   ],
   "source": [
    "x_fit = np.linspace(mag_r_cens.min(), mag_r_cens.max() , 100)\n",
    "y_fit = efficiency(x_fit)\n",
    "plt.scatter(mag_r_cens, ratio, label='Data')\n",
    "plt.plot(x_fit, y_fit, label='Selection function', color='red')\n",
    "plt.xlabel('Magnitude')\n",
    "plt.ylabel('Ratio')\n",
    "plt.legend()\n",
    "plt.title('Selection Function vs Magnitude')"
   ]
  },
  {
   "cell_type": "code",
   "execution_count": null,
   "id": "8635ffb5-9ab8-462e-a7db-45b63f79cf05",
   "metadata": {
    "tags": []
   },
   "outputs": [],
   "source": [
    "from matplotlib import gridspec\n",
    "fig = plt.figure(figsize=(14, 20))\n",
    "gs = gridspec.GridSpec(5, 2, hspace=0.2, wspace=0.2)\n",
    "\n",
    "for i in range(0,9):\n",
    "    mag_r_cens = 0.5*(mag_r_bins[1:]+mag_r_bins[:-1])\n",
    "    ax = plt.subplot(gs[i])\n",
    "    ax.scatter(mag_r_cens, np.log10(phi_r[i,:]),label='DESI')\n",
    "    ax.scatter(mag_r_cens,np.log10(phi_r_prediction[i,:]),label='QLF')\n",
    "    ax.grid()\n",
    "    ax.set_xlabel('Magnitude')  # Label for the x-axis\n",
    "    ax.set_ylabel('Log10(Phi)')  # Label for the y-axis\n",
    "    #ax.set_xlim([-32, -25])  # Adjust x-axis limits\n",
    "    #ax.set_ylim([-9, -4])\n",
    "    ax.legend(loc='upper left')\n",
    "    ax.text(0.95, 0.95, f'$z_{{\\min}} = {z_bins[i]:.2f}, z_{{\\max}} = {z_bins[i+1]:.2f}$', fontsize=12, ha='right', va='top', transform=ax.transAxes)\n",
    "plt.show()"
   ]
  },
  {
   "cell_type": "code",
   "execution_count": null,
   "id": "ada5d557-f5b0-4bf7-bc55-0bc53d4a6971",
   "metadata": {
    "tags": []
   },
   "outputs": [],
   "source": [
    "from matplotlib import gridspec\n",
    "\n",
    "# Create a figure with a single set of axes\n",
    "fig, ax = plt.subplots(figsize=(14, 10))\n",
    "\n",
    "mag_r_cens = 0.5 * (mag_r_bins[1:] + mag_r_bins[:-1])\n",
    "\n",
    "# Plot each dataset on the same axes\n",
    "for i in range(9):  # Adjust to 10 if there are 10 bins\n",
    "    ax.scatter(mag_r_cens, phi_r[i, :] / phi_r_prediction[i, :], label=f'$z_{{\\min}} = {z_bins[i]:.2f}, z_{{\\max}} = {z_bins[i+1]:.2f}$')\n",
    "\n",
    "ax.grid(True)\n",
    "ax.set_xlabel('Magnitude')  # Label for the x-axis\n",
    "ax.set_ylabel('Fraction of selection')  # Label for the y-axis\n",
    "#ax.set_xlim([19, 23])  # Adjust x-axis limits\n",
    "#ax.set_ylim([0, 1])  # Adjust y-axis limits if needed\n",
    "ax.legend(loc='upper right', fontsize='small')  # Adjust legend location and size for clarity\n",
    "\n",
    "plt.title('Comparison of Redshift Bins: Magnitude vs Fraction for r band', fontsize=14)\n",
    "plt.tight_layout()\n",
    "plt.savefig('/global/u1/z/zhaozhon/Plots/fraction_r.png', dpi=300)\n",
    "plt.show()\n"
   ]
  },
  {
   "cell_type": "code",
   "execution_count": null,
   "id": "c73bb07c-a387-430e-ae0c-03eafa0c0662",
   "metadata": {
    "tags": []
   },
   "outputs": [],
   "source": [
    "from matplotlib import gridspec\n",
    "fig = plt.figure(figsize=(14, 20))\n",
    "gs = gridspec.GridSpec(5, 2, hspace=0.4, wspace=0.3)\n",
    "\n",
    "for i in range(0,9):\n",
    "    mag_r_cens = 0.5*(mag_r_bins[1:]+mag_r_bins[:-1])\n",
    "    new_mag_r_cens = 0.5*(mag_r_bins[1:]+mag_r_bins[:-1])\n",
    "    ax = plt.subplot(gs[i])\n",
    "    ax.scatter(mag_r_cens, phi_r[i,:]/phi_r_prediction[i,:],label='DESI')\n",
    "    ax.grid()\n",
    "    ax.set_xlabel('Magnitude')  # Label for the x-axis\n",
    "    ax.set_ylabel('Fraction of selection')  # Label for the y-axis\n",
    "    #ax.set_xlim([-32, -25])  # Adjust x-axis limits\n",
    "    #ax.set_ylim([-9, -4])\n",
    "    #ax.legend(loc='upper left')\n",
    "    ax.text(0.95, 0.95, f'$z_{{\\min}} = {z_bins[i]:.2f}, z_{{\\max}} = {z_bins[i+1]:.2f}$', fontsize=12, ha='right', va='top', transform=ax.transAxes)\n",
    "\n",
    "plt.show()"
   ]
  },
  {
   "cell_type": "markdown",
   "id": "1a70a248-384d-42e2-b3c9-a34b54c913c7",
   "metadata": {},
   "source": [
    "# QSO Distribution"
   ]
  },
  {
   "cell_type": "code",
   "execution_count": null,
   "id": "122b3304-329d-4a2a-898b-668bd22a8370",
   "metadata": {
    "tags": []
   },
   "outputs": [],
   "source": [
    "# Specify the interval\n",
    "interval = 0.2\n",
    "\n",
    "# Calculate the number of bins\n",
    "num_bins_mag1 = int((np.max(apr_mag_r) - np.min(apr_mag_r)) / interval) + 1\n",
    "\n",
    "# Create the bins with the specified interval\n",
    "mag_r_bins1 = np.linspace(np.min(apr_mag_r), np.max(apr_mag_r), num_bins_mag1)\n",
    "\n",
    "# Calculate the number of bins\n",
    "num_bins_z1 = int((np.max(z_desi) - np.min(z_desi)) / interval) + 1\n",
    "\n",
    "# Create the bins with the specified interval\n",
    "z_bins1 = np.linspace(np.min(z_desi), np.max(z_desi), num_bins_z1)\n",
    "\n",
    "counts_r1,z_edges1,mag_r_edges1= np.histogram2d(z_desi, apr_mag_r, bins=[z_bins1, mag_r_bins1])"
   ]
  },
  {
   "cell_type": "code",
   "execution_count": null,
   "id": "d926fdba-41b3-48ed-9904-72d06b96c469",
   "metadata": {
    "tags": []
   },
   "outputs": [],
   "source": [
    "phi_r1 = np.zeros_like(counts_r1)\n",
    "volumes1 = np.array([comoving_volume(z_edges1[i], z_edges1[i+1]) for i in range(len(z_edges1)-1)]) \n",
    "delta_m_r1 = np.diff(mag_r_bins1)\n",
    "x=0\n",
    "for i in range(len(z_bins1)-1):\n",
    "    for j in range(len(mag_r_bins1)-1):\n",
    "        phi_r1[i, j] = counts_r1[i, j] / (volumes1[i] * delta_m_r1[j])/0.16\n",
    "        #print(phi_r1[i,j],counts_r1[i,j],volumes1[i],delta_m_r1[j])"
   ]
  },
  {
   "cell_type": "code",
   "execution_count": null,
   "id": "a4ab7a75-bce6-4011-b9fc-18d8a423eb27",
   "metadata": {
    "tags": []
   },
   "outputs": [],
   "source": [
    "phi_r_prediction1 = np.zeros((len(z_bins1)-1, len(mag_r_bins1)-1))\n",
    "\n",
    "for i in range(len(z_bins1)-1):    \n",
    "    for j in range(len(mag_r_bins1)-1):\n",
    "        m_mid1 = 0.5 * (mag_r_bins1[j] + mag_r_bins1[j+1])\n",
    "        phi_r_prediction1[i,j] = phi1(m_mid1,z_bins1[i],z_bins1[i+1])"
   ]
  },
  {
   "cell_type": "code",
   "execution_count": null,
   "id": "2c085312-a551-4b79-baa9-01d705e780ea",
   "metadata": {
    "tags": []
   },
   "outputs": [],
   "source": [
    "ratio = phi_r1 / phi_r_prediction1\n",
    "ratio[ratio > 1] = 1\n",
    "# Create a meshgrid for plotting\n",
    "z_centers = (z_edges1[:-1] + z_edges1[1:]) / 2\n",
    "mag_r_centers = (mag_r_edges1[:-1] + mag_r_edges1[1:]) / 2\n",
    "M, Z = np.meshgrid(mag_r_centers, z_centers)  # Notice the order of M and Z\n",
    "\n",
    "# Plot the distribution\n",
    "plt.figure(figsize=(10, 8))\n",
    "plt.pcolormesh(M, Z, ratio, cmap='viridis', shading='auto')\n",
    "plt.colorbar(label='Ratio (clipped at 1)')\n",
    "plt.xlabel('Magnitude (m)')\n",
    "plt.ylabel('Redshift (z)')\n",
    "plt.title('Distribution of $\\phi_{r1} / \\phi_{r\\_prediction1}$ (clipped at 1)')\n",
    "plt.show()"
   ]
  },
  {
   "cell_type": "code",
   "execution_count": null,
   "id": "a223849c-ee49-475f-85eb-718acb21468f",
   "metadata": {},
   "outputs": [],
   "source": []
  }
 ],
 "metadata": {
  "kernelspec": {
   "display_name": "DESI main",
   "language": "python",
   "name": "desi-main"
  },
  "language_info": {
   "codemirror_mode": {
    "name": "ipython",
    "version": 3
   },
   "file_extension": ".py",
   "mimetype": "text/x-python",
   "name": "python",
   "nbconvert_exporter": "python",
   "pygments_lexer": "ipython3",
   "version": "3.10.14"
  }
 },
 "nbformat": 4,
 "nbformat_minor": 5
}
