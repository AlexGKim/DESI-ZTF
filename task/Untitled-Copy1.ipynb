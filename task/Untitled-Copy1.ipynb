{
 "cells": [
  {
   "cell_type": "code",
   "execution_count": 3,
   "id": "1cf79ee2-e8e5-4dcf-968f-861e84b9be98",
   "metadata": {
    "tags": []
   },
   "outputs": [],
   "source": [
    "import numpy as np\n",
    "data_g = np.genfromtxt('g.csv', delimiter=',', skip_header=1)\n",
    "target_id_g = data_g[:,0]\n",
    "mjd_g = data_g[:,1]\n",
    "mag_g = data_g[:,2]\n",
    "magerr_g = data_g[:,3]\n",
    "data_r = np.genfromtxt('r.csv', delimiter=',', skip_header=1)\n",
    "target_id_r = data_r[:,0]\n",
    "mjd_r = data_r[:,1]\n",
    "mag_r = data_r[:,2]\n",
    "magerr_r = data_r[:,3]\n",
    "data_i = np.genfromtxt('i.csv', delimiter=',', skip_header=1)\n",
    "target_id_i = data_i[:,0]\n",
    "mjd_i = data_i[:,1]\n",
    "mag_i = data_i[:,2]\n",
    "magerr_i = data_i[:,3]"
   ]
  },
  {
   "cell_type": "code",
   "execution_count": 4,
   "id": "6a9a2560-0007-46cb-8617-886bbc8f4c25",
   "metadata": {
    "tags": []
   },
   "outputs": [
    {
     "name": "stdout",
     "output_type": "stream",
     "text": [
      "(972489,)\n"
     ]
    }
   ],
   "source": [
    "print(target_id_g.shape)"
   ]
  },
  {
   "cell_type": "code",
   "execution_count": 6,
   "id": "614d71cb-8b6b-40c3-adc8-0ee7864189f8",
   "metadata": {
    "tags": []
   },
   "outputs": [
    {
     "name": "stdout",
     "output_type": "stream",
     "text": [
      "(967722,)\n"
     ]
    }
   ],
   "source": [
    "_,ii = np.unique(target_id_g,return_index=True)\n",
    "print(target_id_g[ii].shape)"
   ]
  },
  {
   "cell_type": "code",
   "execution_count": null,
   "id": "830475c4-c738-4b5c-abd0-f5871c17e628",
   "metadata": {},
   "outputs": [],
   "source": []
  }
 ],
 "metadata": {
  "kernelspec": {
   "display_name": "pytorch-1.9.0",
   "language": "python",
   "name": "pytorch-1.9.0"
  },
  "language_info": {
   "codemirror_mode": {
    "name": "ipython",
    "version": 3
   },
   "file_extension": ".py",
   "mimetype": "text/x-python",
   "name": "python",
   "nbconvert_exporter": "python",
   "pygments_lexer": "ipython3",
   "version": "3.8.11"
  }
 },
 "nbformat": 4,
 "nbformat_minor": 5
}
