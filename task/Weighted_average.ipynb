{
 "cells": [
  {
   "cell_type": "code",
   "execution_count": 1,
   "id": "39da97cc",
   "metadata": {
    "tags": []
   },
   "outputs": [],
   "source": [
    "import h5py\n",
    "import numpy as np\n",
    "import pandas as pd\n",
    "import matplotlib.pyplot as plt"
   ]
  },
  {
   "cell_type": "code",
   "execution_count": 2,
   "id": "acf44f89",
   "metadata": {},
   "outputs": [
    {
     "ename": "NameError",
     "evalue": "name 'tqdm' is not defined",
     "output_type": "error",
     "traceback": [
      "\u001b[0;31m---------------------------------------------------------------------------\u001b[0m",
      "\u001b[0;31mNameError\u001b[0m                                 Traceback (most recent call last)",
      "Cell \u001b[0;32mIn[2], line 18\u001b[0m\n\u001b[1;32m     15\u001b[0m magerr_i \u001b[38;5;241m=\u001b[39m []\n\u001b[1;32m     17\u001b[0m \u001b[38;5;66;03m# Use tqdm to create a progress bar\u001b[39;00m\n\u001b[0;32m---> 18\u001b[0m \u001b[38;5;28;01mfor\u001b[39;00m x \u001b[38;5;129;01min\u001b[39;00m \u001b[43mtqdm\u001b[49m(file_range):\n\u001b[1;32m     19\u001b[0m     file_path \u001b[38;5;241m=\u001b[39m \u001b[38;5;124mf\u001b[39m\u001b[38;5;124m\"\u001b[39m\u001b[38;5;132;01m{\u001b[39;00mx\u001b[38;5;132;01m:\u001b[39;00m\u001b[38;5;124m06d\u001b[39m\u001b[38;5;132;01m}\u001b[39;00m\u001b[38;5;124m.hdf5\u001b[39m\u001b[38;5;124m\"\u001b[39m  \u001b[38;5;66;03m# Format the file name with leading zeros\u001b[39;00m\n\u001b[1;32m     21\u001b[0m     \u001b[38;5;28;01mtry\u001b[39;00m:\n",
      "\u001b[0;31mNameError\u001b[0m: name 'tqdm' is not defined"
     ]
    }
   ],
   "source": [
    "# Define the range of file names from 377 to 1896\n",
    "file_range = range(377, 1897)\n",
    "\n",
    "# Initialize lists to store data\n",
    "target_id_g = []\n",
    "mag_g = []\n",
    "magerr_g = []\n",
    "\n",
    "target_id_r = []\n",
    "mag_r = []\n",
    "magerr_r = []\n",
    "\n",
    "target_id_i = []\n",
    "mag_i = []\n",
    "magerr_i = []\n",
    "\n",
    "# Use tqdm to create a progress bar\n",
    "for x in tqdm(file_range):\n",
    "    file_path = f\"{x:06d}.hdf5\"  # Format the file name with leading zeros\n",
    "\n",
    "    try:\n",
    "        with h5py.File(file_path, 'r') as file:\n",
    "            keys = list(file.keys())\n",
    "            for key in keys:\n",
    "                if 'g' in file[key] and 'mag' in file[key]['g'] and 'magerr' in file[key]['g']:\n",
    "                    indices = (file[key]['g']['catflags'][:] & 32768) == 0\n",
    "                    target_id_g.append(key)\n",
    "                    mag_g.extend(file[key]['g']['mag'][indices])\n",
    "                    magerr_g.extend(file[key]['g']['magerr'][indices])\n",
    "                if 'r' in file[key] and 'mag' in file[key]['r'] and 'magerr' in file[key]['r']:\n",
    "                    indices = (file[key]['r']['catflags'][:] & 32768) == 0\n",
    "                    target_id_r.append(key)\n",
    "                    mag_r.extend(file[key]['r']['mag'][indices])\n",
    "                    magerr_r.extend(file[key]['r']['magerr'][indices])\n",
    "                elif 'i' in file[key] and 'mag' in file[key]['i'] and 'magerr' in file[key]['i']:\n",
    "                    indices = (file[key]['i']['catflags'][:] & 32768) == 0\n",
    "                    target_id_i.append(key)\n",
    "                    mag_i.extend(file[key]['i']['mag'][indices])\n",
    "                    magerr_i.extend(file[key]['i']['magerr'][indices])\n",
    "    except FileNotFoundError:\n",
    "        print(f\"File not found: {file_path}\")\n",
    "    except Exception as e:\n",
    "        print(f\"Error processing file {file_path}: {e}\")"
   ]
  },
  {
   "cell_type": "code",
   "execution_count": 3,
   "id": "f87f2124",
   "metadata": {},
   "outputs": [],
   "source": [
    "def mag_flux(magnitude,uncertainties):\n",
    "    f = 10 ** (-magnitude / 2.5)\n",
    "    df = f * uncertainties * np.log(10) / (-2.5)\n",
    "    return f,df"
   ]
  },
  {
   "cell_type": "code",
   "execution_count": 4,
   "id": "272047fa",
   "metadata": {},
   "outputs": [],
   "source": [
    "result1 = [mag_flux(magnitudes_g[x],uncertainties_g[x]) for x in range(len(magnitudes_g))]\n",
    "result2 = [mag_flux(magnitudes_r[x],uncertainties_r[x]) for x in range(len(magnitudes_r))]\n",
    "result3 = [mag_flux(magnitudes_i[x],uncertainties_i[x]) for x in range(len(magnitudes_i))]\n",
    "\n",
    "f_g = [x[0] for x in result1]\n",
    "df_g = [x[1] for x in result1]\n",
    "\n",
    "f_r = [x[0] for x in result2]\n",
    "df_r = [x[1] for x in result2]\n",
    "\n",
    "f_i = [x[0] for x in result3]\n",
    "df_i = [x[1] for x in result3]"
   ]
  },
  {
   "cell_type": "code",
   "execution_count": 5,
   "id": "37211dc5",
   "metadata": {},
   "outputs": [],
   "source": [
    "def weighted_average(f, df):\n",
    "    # Calculate the weights\n",
    "    weights = 1.0 / (df ** 2)\n",
    "    \n",
    "    # Calculate the weighted average magnitude\n",
    "    weighted_flux = np.sum(f * weights) / np.sum(weights)\n",
    "\n",
    "    # Calculate the weighted uncertainties\n",
    "    weighted_uncertainties = np.sqrt(1.0 / np.sum(weights))\n",
    "\n",
    "    return weighted_flux, weighted_uncertainties"
   ]
  },
  {
   "cell_type": "code",
   "execution_count": 6,
   "id": "e241742e",
   "metadata": {},
   "outputs": [],
   "source": [
    "result1 = [weighted_average(f_g[x],df_g[x]) for x in range(len(f_g)) ]\n",
    "result2 = [weighted_average(f_r[x],df_r[x]) for x in range(len(f_r)) ]\n",
    "result3 = [weighted_average(f_i[x],df_i[x]) for x in range(len(f_i)) ]\n",
    "\n",
    "\n",
    "\n",
    "#print(len(result))\n",
    "weighted_ave_f_g = [x[0] for x in result1]\n",
    "weighted_ave_df_g = [x[1] for x in result1]\n",
    "\n",
    "weighted_ave_f_r = [x[0] for x in result2]\n",
    "weighted_ave_df_r = [x[1] for x in result2]\n",
    "\n",
    "weighted_ave_f_i = [x[0] for x in result3]\n",
    "weighted_ave_df_i = [x[1] for x in result3]\n",
    "#print(weighted_ave_mag_g)\n",
    "f_g = np.array([weighted_ave_f_g])\n",
    "df_g = np.array([weighted_ave_df_g])\n",
    "\n",
    "f_r = np.array([weighted_ave_f_r])\n",
    "df_r = np.array([weighted_ave_df_r])\n",
    "\n",
    "f_i = np.array([weighted_ave_f_i])\n",
    "df_i = np.array([weighted_ave_df_i])\n",
    "\n",
    "mag_g = -2.5 * np.log10(f_g)\n",
    "mag_r = -2.5 * np.log10(f_r)\n",
    "mag_i = -2.5 * np.log10(f_i)\n",
    "magerr_g = -2.5 / np.log(10) * df_g / f_g\n",
    "magerr_r = -2.5 / np.log(10) * df_r / f_r\n",
    "magerr_i = -2.5 / np.log(10) * df_i / f_i"
   ]
  },
  {
   "cell_type": "code",
   "execution_count": 7,
   "id": "a2723a46",
   "metadata": {},
   "outputs": [],
   "source": [
    "data = pd.DataFrame({'Targetid':target_id,\n",
    "                     'mag_g': weighted_ave_mag_g[0],\n",
    "                    'magerr_g':weighted_ave_magerr_g[0],\n",
    "                    'mag_r': weighted_ave_mag_r[0],\n",
    "                    'magerr_r':weighted_ave_magerr_r[0],\n",
    "                    'mag_i': weighted_ave_mag_i[0],\n",
    "                    'magerr_i':weighted_ave_magerr_i[0],})\n",
    "csv_file_path = \"weighted_average.csv\"\n",
    "# Save the data to a CSV file\n",
    "data.to_csv(csv_file_path, index=False)"
   ]
  }
 ],
 "metadata": {
  "kernelspec": {
   "display_name": "NERSC Python",
   "language": "python",
   "name": "python3"
  },
  "language_info": {
   "codemirror_mode": {
    "name": "ipython",
    "version": 3
   },
   "file_extension": ".py",
   "mimetype": "text/x-python",
   "name": "python",
   "nbconvert_exporter": "python",
   "pygments_lexer": "ipython3",
   "version": "3.11.7"
  }
 },
 "nbformat": 4,
 "nbformat_minor": 5
}
