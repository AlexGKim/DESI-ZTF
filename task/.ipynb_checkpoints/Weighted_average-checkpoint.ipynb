{
 "cells": [
  {
   "cell_type": "code",
   "execution_count": 1,
   "id": "39da97cc",
   "metadata": {},
   "outputs": [],
   "source": [
    "import h5py\n",
    "import numpy as np\n",
    "import pandas as pd\n",
    "import matplotlib.pyplot as plt"
   ]
  },
  {
   "cell_type": "code",
   "execution_count": 2,
   "id": "acf44f89",
   "metadata": {},
   "outputs": [],
   "source": [
    "target_id = []\n",
    "magnitudes_g = []\n",
    "uncertainties_g = []\n",
    "magnitudes_r = []\n",
    "uncertainties_r = []\n",
    "magnitudes_i = []\n",
    "uncertainties_i = []    \n",
    "for x in range(10):\n",
    "    file_path = f\"00062{x}.hdf5\"\n",
    "    with h5py.File(file_path,'r') as file:\n",
    "        keys = list(file.keys())\n",
    "        for key in keys:\n",
    "            if 'mag' in file[key]['g'] and 'magerr' in file[key]['g'] and 'mag' in file [key]['r'] and 'magerr' in file[key]['r'] and 'mag' in file[key]['i'] and 'magerr' in file[key]['i']:\n",
    "                #print('gri')\n",
    "                target_id.append(key)\n",
    "                magnitudes_g.append(file[key]['g']['mag'][:])\n",
    "                uncertainties_g.append(file[key]['g']['magerr'][:])\n",
    "                magnitudes_r.append(file[key]['r']['mag'][:])\n",
    "                uncertainties_r.append(file[key]['r']['magerr'][:])\n",
    "                magnitudes_i.append(file[key]['i']['mag'][:])\n",
    "                uncertainties_i.append(file[key]['i']['magerr'][:])"
   ]
  },
  {
   "cell_type": "code",
   "execution_count": 3,
   "id": "f87f2124",
   "metadata": {},
   "outputs": [],
   "source": [
    "def mag_flux(magnitude,uncertainties):\n",
    "    f = 10 ** (-magnitude / 2.5)\n",
    "    df = f * uncertainties * np.log(10) / (-2.5)\n",
    "    return f,df"
   ]
  },
  {
   "cell_type": "code",
   "execution_count": 4,
   "id": "272047fa",
   "metadata": {},
   "outputs": [],
   "source": [
    "result1 = [mag_flux(magnitudes_g[x],uncertainties_g[x]) for x in range(len(magnitudes_g))]\n",
    "result2 = [mag_flux(magnitudes_r[x],uncertainties_r[x]) for x in range(len(magnitudes_r))]\n",
    "result3 = [mag_flux(magnitudes_i[x],uncertainties_i[x]) for x in range(len(magnitudes_i))]\n",
    "\n",
    "f_g = [x[0] for x in result1]\n",
    "df_g = [x[1] for x in result1]\n",
    "\n",
    "f_r = [x[0] for x in result2]\n",
    "df_r = [x[1] for x in result2]\n",
    "\n",
    "f_i = [x[0] for x in result3]\n",
    "df_i = [x[1] for x in result3]\n"
   ]
  },
  {
   "cell_type": "code",
   "execution_count": 5,
   "id": "37211dc5",
   "metadata": {},
   "outputs": [],
   "source": [
    "def weighted_average(f, df):\n",
    "    # Calculate the weights\n",
    "    weights = 1.0 / (df ** 2)\n",
    "    \n",
    "    # Calculate the weighted average magnitude\n",
    "    weighted_flux = np.sum(f * weights) / np.sum(weights)\n",
    "\n",
    "    # Calculate the weighted uncertainties\n",
    "    weighted_uncertainties = np.sqrt(1.0 / np.sum(weights))\n",
    "\n",
    "    return weighted_flux, weighted_uncertainties"
   ]
  },
  {
   "cell_type": "code",
   "execution_count": 6,
   "id": "e241742e",
   "metadata": {},
   "outputs": [],
   "source": [
    "result1 = [weighted_average(f_g[x],df_g[x]) for x in range(len(f_g)) ]\n",
    "result2 = [weighted_average(f_r[x],df_r[x]) for x in range(len(f_r)) ]\n",
    "result3 = [weighted_average(f_i[x],df_i[x]) for x in range(len(f_i)) ]\n",
    "\n",
    "\n",
    "\n",
    "#print(len(result))\n",
    "weighted_ave_f_g = [x[0] for x in result1]\n",
    "weighted_ave_df_g = [x[1] for x in result1]\n",
    "\n",
    "weighted_ave_f_r = [x[0] for x in result2]\n",
    "weighted_ave_df_r = [x[1] for x in result2]\n",
    "\n",
    "weighted_ave_f_i = [x[0] for x in result3]\n",
    "weighted_ave_df_i = [x[1] for x in result3]\n",
    "#print(weighted_ave_mag_g)\n",
    "f_g = np.array([weighted_ave_f_g])\n",
    "df_g = np.array([weighted_ave_df_g])\n",
    "\n",
    "f_r = np.array([weighted_ave_f_r])\n",
    "df_r = np.array([weighted_ave_df_r])\n",
    "\n",
    "f_i = np.array([weighted_ave_f_i])\n",
    "df_i = np.array([weighted_ave_df_i])\n",
    "\n",
    "weighted_ave_mag_g = -2.5 * np.log10(f_g)\n",
    "weighted_ave_mag_r = -2.5 * np.log10(f_r)\n",
    "weighted_ave_mag_i = -2.5 * np.log10(f_i)\n",
    "weighted_ave_magerr_g = -2.5 / np.log(10) * df_g / f_g\n",
    "weighted_ave_magerr_r = -2.5 / np.log(10) * df_r / f_r\n",
    "weighted_ave_magerr_i = -2.5 / np.log(10) * df_i / f_i"
   ]
  },
  {
   "cell_type": "code",
   "execution_count": 7,
   "id": "a2723a46",
   "metadata": {},
   "outputs": [],
   "source": [
    "data = pd.DataFrame({'Targetid':target_id,\n",
    "                     'mag_g': weighted_ave_mag_g[0],\n",
    "                    'magerr_g':weighted_ave_magerr_g[0],\n",
    "                    'mag_r': weighted_ave_mag_r[0],\n",
    "                    'magerr_r':weighted_ave_magerr_r[0],\n",
    "                    'mag_i': weighted_ave_mag_i[0],\n",
    "                    'magerr_i':weighted_ave_magerr_i[0],})\n",
    "csv_file_path = \"weighted_average.csv\"\n",
    "# Save the data to a CSV file\n",
    "data.to_csv(csv_file_path, index=False)"
   ]
  }
 ],
 "metadata": {
  "kernelspec": {
   "display_name": "Python 3 (ipykernel)",
   "language": "python",
   "name": "python3"
  },
  "language_info": {
   "codemirror_mode": {
    "name": "ipython",
    "version": 3
   },
   "file_extension": ".py",
   "mimetype": "text/x-python",
   "name": "python",
   "nbconvert_exporter": "python",
   "pygments_lexer": "ipython3",
   "version": "3.9.16"
  }
 },
 "nbformat": 4,
 "nbformat_minor": 5
}
