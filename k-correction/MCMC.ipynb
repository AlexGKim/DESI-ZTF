{
 "cells": [
  {
   "cell_type": "code",
   "execution_count": 1,
   "id": "ff2abf5b-6e1e-44a7-ac3e-73bdc44109f3",
   "metadata": {
    "tags": []
   },
   "outputs": [],
   "source": [
    "import numpy as np\n",
    "from matplotlib import pyplot as plt\n",
    "from astropy.cosmology import Planck18\n",
    "from scipy.special import erf, erfc,erfcx\n",
    "import scipy\n",
    "from scipy.optimize import minimize, rosen, rosen_hess"
   ]
  },
  {
   "cell_type": "code",
   "execution_count": 2,
   "id": "8b6863b8-cede-475c-a9d0-cb242af87c63",
   "metadata": {
    "tags": []
   },
   "outputs": [],
   "source": [
    "z_g = np.load('/global/u1/z/zhaozhon/Dataset/z_g.npy')\n",
    "z_r = np.load('/global/u1/z/zhaozhon/Dataset/z_r.npy')\n",
    "z_i = np.load('/global/u1/z/zhaozhon/Dataset/z_i.npy')\n",
    "apr_mag_g = np.load('/global/u1/z/zhaozhon/Dataset/apr_mag_g.npy')\n",
    "apr_mag_r = np.load('/global/u1/z/zhaozhon/Dataset/apr_mag_r.npy')\n",
    "apr_mag_i = np.load('/global/u1/z/zhaozhon/Dataset/apr_mag_i.npy')\n",
    "magerr_g_1 = np.load('/global/u1/z/zhaozhon/Dataset/magerr_g_1.npy')\n",
    "magerr_r_1 = np.load('/global/u1/z/zhaozhon/Dataset/magerr_r_1.npy')\n",
    "magerr_i_1 = np.load('/global/u1/z/zhaozhon/Dataset/magerr_i_1.npy')\n",
    "tid_g=np.load('/global/u1/z/zhaozhon/Dataset/tid_g.npy')\n",
    "k_g=np.load('/global/u1/z/zhaozhon/Dataset/k_g.npy')\n",
    "index_g=np.load('/global/u1/z/zhaozhon/Dataset/index_g.npy')\n",
    "tid_r=np.load('/global/u1/z/zhaozhon/Dataset/tid_r.npy')\n",
    "k_r=np.load('/global/u1/z/zhaozhon/Dataset/k_r.npy')\n",
    "index_r=np.load('/global/u1/z/zhaozhon/Dataset/index_r.npy')\n",
    "tid_i=np.load('/global/u1/z/zhaozhon/Dataset/tid_i.npy')\n",
    "k_i=np.load('/global/u1/z/zhaozhon/Dataset/k_i.npy')\n",
    "index_i=np.load('/global/u1/z/zhaozhon/Dataset/index_i.npy')"
   ]
  },
  {
   "cell_type": "code",
   "execution_count": 3,
   "id": "882ea9ce-ad8f-43f6-92ca-81a48c17d5b8",
   "metadata": {},
   "outputs": [],
   "source": [
    "z_g = z_g[index_g]\n",
    "z_r = z_r[index_r]\n",
    "z_i = z_i[index_i]\n",
    "apr_mag_g = apr_mag_g[index_g]\n",
    "apr_mag_r = apr_mag_r[index_r]\n",
    "apr_mag_i = apr_mag_i[index_i]\n",
    "magerr_g_1 = magerr_g_1[index_g]\n",
    "magerr_r_1 = magerr_r_1[index_r]\n",
    "magerr_i_1 = magerr_i_1[index_i]"
   ]
  },
  {
   "cell_type": "code",
   "execution_count": 4,
   "id": "9a22477e-c70f-44c8-a9f2-3ed3415a5879",
   "metadata": {
    "tags": []
   },
   "outputs": [
    {
     "name": "stdout",
     "output_type": "stream",
     "text": [
      "The fraction we removed from the dataset: 0.0003048647706981403\n"
     ]
    }
   ],
   "source": [
    "indice1 = np.isnan(k_g) | np.isinf(k_g)\n",
    "print(\"The fraction we removed from the dataset:\", (indice1).mean())\n",
    "apr_mag_g = apr_mag_g[~indice1]\n",
    "magerr_g = magerr_g_1[~indice1]\n",
    "k_g = k_g[~indice1]"
   ]
  },
  {
   "cell_type": "code",
   "execution_count": 11,
   "id": "4ff9ade5-8b76-48a9-bcf0-e64425713949",
   "metadata": {
    "tags": []
   },
   "outputs": [
    {
     "name": "stdout",
     "output_type": "stream",
     "text": [
      "(22954,)\n"
     ]
    }
   ],
   "source": [
    "print(apr_mag_g.shape)"
   ]
  },
  {
   "cell_type": "code",
   "execution_count": 5,
   "id": "7da28174-6843-412d-8439-4f9e660cc10c",
   "metadata": {},
   "outputs": [],
   "source": [
    "d_g = Planck18.distmod(z_g).value"
   ]
  },
  {
   "cell_type": "code",
   "execution_count": 6,
   "id": "5e9dd42a-5f35-4ef6-9e8d-b0f596030e4e",
   "metadata": {
    "tags": []
   },
   "outputs": [
    {
     "name": "stdout",
     "output_type": "stream",
     "text": [
      "float64\n"
     ]
    }
   ],
   "source": [
    "print(apr_mag_g.dtype)"
   ]
  },
  {
   "cell_type": "code",
   "execution_count": 7,
   "id": "75dddbb2-05b8-4fb4-a2f7-d9dd79a22cd5",
   "metadata": {
    "tags": []
   },
   "outputs": [],
   "source": [
    "def log_likelihood(params,apr_mag, magerr, d, k, m_lim):\n",
    "    # Filter arrays based on the limiting magnitude\n",
    "    sigma_I, M_X = params\n",
    "    indice = apr_mag < m_lim\n",
    "    filtered_apr_mag = apr_mag[indice]\n",
    "    filtered_magerr = magerr[indice]\n",
    "    filtered_d = d[indice]\n",
    "    filtered_k = k[indice]\n",
    "    # Calculate the variance for the filtered data\n",
    "    variance = sigma_I**2 + filtered_magerr**2\n",
    "    \n",
    "    # Calculate each term of the log-likelihood\n",
    "    term1 = -0.5 * np.log(2 * np.pi * variance)\n",
    "    term2 = -0.5 * (filtered_apr_mag - (M_X + filtered_k + filtered_d))**2 / variance \n",
    "    #term3 = -np.log(0.5 * erfc((m_lim - filtered_apr_mag) / np.sqrt(2 * variance)))\n",
    "    term3 = -np.log( erfcx(-(m_lim - filtered_apr_mag) / np.sqrt(2 * variance))) + (((m_lim - filtered_apr_mag)) / np.sqrt(2 * variance))**2\n",
    "    #indice1 = np.isinf(term3)\n",
    "    #term1 = term1[~indice1]\n",
    "    #term2 = term2[~indice1]\n",
    "    #term3 = term3[~indice1]\n",
    "    # Sum the terms to get the total log-likelihood\n",
    "    total_log_likelihood = np.sum(term1 +term2+term3)\n",
    "    print(total_log_likelihood.shape)\n",
    "    return total_log_likelihood"
   ]
  },
  {
   "cell_type": "code",
   "execution_count": 8,
   "id": "44f6202d-f173-458d-8f7c-d51b2a02cc29",
   "metadata": {
    "tags": []
   },
   "outputs": [
    {
     "data": {
      "text/plain": [
       "'\\ndef log_likelihood(params,apr_mag, magerr, d, k, m_lim):\\n    # Filter arrays based on the limiting magnitude\\n    sigma_I, M_X = params\\n    indice = apr_mag < m_lim\\n    filtered_apr_mag = apr_mag[indice]\\n    filtered_magerr = magerr[indice]\\n    filtered_d = d[indice]\\n    filtered_k = k[indice]\\n    indice1 = np.isnan(filtered_k) | np.isinf(filtered_k)\\n    filtered_apr_mag = filtered_apr_mag[~indice1]\\n    filtered_magerr = filtered_magerr[~indice1]\\n    filtered_d = filtered_d[~indice1]\\n    filtered_k = filtered_k[~indice1]\\n    # Calculate the variance for the filtered data\\n    variance = sigma_I**2 + filtered_magerr**2\\n    \\n    # Calculate each term of the log-likelihood\\n    term1 = -0.5 * np.log(2 * np.pi * variance)\\n    term2 = -0.5 * (filtered_apr_mag - (M_X + filtered_k + filtered_d + (filtered_apr_mag-filtered_apr_mag2)*c))**2 / variance #different bands abs_mag,color of quasar\\n    #term3 = -np.log(0.5 * erfc((m_lim - filtered_apr_mag) / np.sqrt(2 * variance)))\\n    term3 = -np.log( erfcx(-(m_lim - filtered_apr_mag) / np.sqrt(2 * variance))) + (((m_lim - filtered_apr_mag)) / np.sqrt(2 * variance))**2\\n    #indice1 = np.isinf(term3)\\n    #term1 = term1[~indice1]\\n    #term2 = term2[~indice1]\\n    #term3 = term3[~indice1]\\n    # Sum the terms to get the total log-likelihood\\n    total_log_likelihood = np.sum(term1 +term2+term3)\\n    print(total_log_likelihood.shape)\\n    return total_log_likelihood\\n'"
      ]
     },
     "execution_count": 8,
     "metadata": {},
     "output_type": "execute_result"
    }
   ],
   "source": [
    "# New \n",
    "'''\n",
    "def log_likelihood(params,apr_mag, magerr, d, k, m_lim):\n",
    "    # Filter arrays based on the limiting magnitude\n",
    "    sigma_I, M_X = params\n",
    "    indice = apr_mag < m_lim\n",
    "    filtered_apr_mag = apr_mag[indice]\n",
    "    filtered_magerr = magerr[indice]\n",
    "    filtered_d = d[indice]\n",
    "    filtered_k = k[indice]\n",
    "    indice1 = np.isnan(filtered_k) | np.isinf(filtered_k)\n",
    "    filtered_apr_mag = filtered_apr_mag[~indice1]\n",
    "    filtered_magerr = filtered_magerr[~indice1]\n",
    "    filtered_d = filtered_d[~indice1]\n",
    "    filtered_k = filtered_k[~indice1]\n",
    "    # Calculate the variance for the filtered data\n",
    "    variance = sigma_I**2 + filtered_magerr**2\n",
    "    \n",
    "    # Calculate each term of the log-likelihood\n",
    "    term1 = -0.5 * np.log(2 * np.pi * variance)\n",
    "    term2 = -0.5 * (filtered_apr_mag - (M_X + filtered_k + filtered_d + (filtered_apr_mag-filtered_apr_mag2)*c))**2 / variance #different bands abs_mag,color of quasar\n",
    "    #term3 = -np.log(0.5 * erfc((m_lim - filtered_apr_mag) / np.sqrt(2 * variance)))\n",
    "    term3 = -np.log( erfcx(-(m_lim - filtered_apr_mag) / np.sqrt(2 * variance))) + (((m_lim - filtered_apr_mag)) / np.sqrt(2 * variance))**2\n",
    "    #indice1 = np.isinf(term3)\n",
    "    #term1 = term1[~indice1]\n",
    "    #term2 = term2[~indice1]\n",
    "    #term3 = term3[~indice1]\n",
    "    # Sum the terms to get the total log-likelihood\n",
    "    total_log_likelihood = np.sum(term1 +term2+term3)\n",
    "    print(total_log_likelihood.shape)\n",
    "    return total_log_likelihood\n",
    "'''"
   ]
  },
  {
   "cell_type": "code",
   "execution_count": 9,
   "id": "4b39daa8-0d4c-4137-8c0c-7aa60531759d",
   "metadata": {
    "tags": []
   },
   "outputs": [
    {
     "data": {
      "text/plain": [
       "(array([1.000e+00, 2.000e+00, 0.000e+00, 0.000e+00, 0.000e+00, 1.000e+00,\n",
       "        3.000e+00, 1.000e+00, 1.000e+00, 1.000e+00, 2.000e+00, 3.000e+00,\n",
       "        4.000e+00, 3.000e+00, 8.000e+00, 5.000e+00, 1.000e+01, 6.000e+00,\n",
       "        1.100e+01, 1.000e+01, 1.800e+01, 2.300e+01, 1.600e+01, 1.900e+01,\n",
       "        1.500e+01, 3.300e+01, 3.200e+01, 2.900e+01, 4.800e+01, 4.000e+01,\n",
       "        3.900e+01, 4.500e+01, 4.700e+01, 5.600e+01, 5.100e+01, 5.500e+01,\n",
       "        6.400e+01, 7.400e+01, 9.800e+01, 9.100e+01, 1.240e+02, 1.120e+02,\n",
       "        1.030e+02, 1.550e+02, 1.490e+02, 1.570e+02, 1.770e+02, 2.040e+02,\n",
       "        2.000e+02, 2.160e+02, 2.170e+02, 2.270e+02, 2.520e+02, 2.550e+02,\n",
       "        2.840e+02, 3.240e+02, 3.500e+02, 3.080e+02, 3.350e+02, 3.660e+02,\n",
       "        4.300e+02, 4.330e+02, 4.420e+02, 4.710e+02, 5.230e+02, 5.570e+02,\n",
       "        5.650e+02, 7.090e+02, 7.610e+02, 8.680e+02, 9.380e+02, 9.720e+02,\n",
       "        1.055e+03, 1.143e+03, 1.247e+03, 1.183e+03, 1.176e+03, 1.078e+03,\n",
       "        8.430e+02, 6.810e+02, 5.010e+02, 3.630e+02, 2.120e+02, 1.130e+02,\n",
       "        8.800e+01, 4.000e+01, 3.000e+01, 2.000e+01, 1.300e+01, 9.000e+00,\n",
       "        3.000e+00, 2.000e+00, 1.000e+00, 1.000e+00, 0.000e+00, 0.000e+00,\n",
       "        0.000e+00, 1.000e+00, 1.000e+00, 1.000e+00]),\n",
       " array([17.1788    , 17.23623643, 17.29367286, 17.35110929, 17.40854572,\n",
       "        17.46598215, 17.52341858, 17.58085501, 17.63829144, 17.69572787,\n",
       "        17.7531643 , 17.81060073, 17.86803716, 17.92547359, 17.98291002,\n",
       "        18.04034645, 18.09778288, 18.15521931, 18.21265574, 18.27009217,\n",
       "        18.3275286 , 18.38496503, 18.44240146, 18.49983789, 18.55727432,\n",
       "        18.61471075, 18.67214718, 18.72958361, 18.78702004, 18.84445647,\n",
       "        18.9018929 , 18.95932933, 19.01676576, 19.07420219, 19.13163862,\n",
       "        19.18907505, 19.24651148, 19.30394791, 19.36138434, 19.41882077,\n",
       "        19.4762572 , 19.53369363, 19.59113006, 19.64856649, 19.70600292,\n",
       "        19.76343935, 19.82087578, 19.87831221, 19.93574864, 19.99318507,\n",
       "        20.0506215 , 20.10805793, 20.16549436, 20.22293079, 20.28036722,\n",
       "        20.33780365, 20.39524008, 20.45267651, 20.51011294, 20.56754937,\n",
       "        20.6249858 , 20.68242223, 20.73985866, 20.79729509, 20.85473152,\n",
       "        20.91216795, 20.96960438, 21.02704081, 21.08447724, 21.14191367,\n",
       "        21.1993501 , 21.25678653, 21.31422296, 21.37165939, 21.42909582,\n",
       "        21.48653225, 21.54396868, 21.60140511, 21.65884154, 21.71627797,\n",
       "        21.7737144 , 21.83115083, 21.88858726, 21.94602369, 22.00346012,\n",
       "        22.06089655, 22.11833298, 22.17576941, 22.23320584, 22.29064227,\n",
       "        22.3480787 , 22.40551513, 22.46295156, 22.52038799, 22.57782442,\n",
       "        22.63526085, 22.69269728, 22.75013371, 22.80757014, 22.86500657,\n",
       "        22.922443  ]),\n",
       " <BarContainer object of 100 artists>)"
      ]
     },
     "execution_count": 9,
     "metadata": {},
     "output_type": "execute_result"
    },
    {
     "data": {
      "image/png": "[encoded data removed]",
      "text/plain": [
       "<Figure size 640x480 with 1 Axes>"
      ]
     },
     "metadata": {},
     "output_type": "display_data"
    }
   ],
   "source": [
    "plt.hist(apr_mag_g,bins=100)"
   ]
  },
  {
   "cell_type": "code",
   "execution_count": 10,
   "id": "6157b117-8d8f-484c-8ec0-fe0255817218",
   "metadata": {
    "tags": []
   },
   "outputs": [
    {
     "ename": "IndexError",
     "evalue": "boolean index did not match indexed array along dimension 0; dimension is 22961 but corresponding boolean dimension is 22954",
     "output_type": "error",
     "traceback": [
      "\u001b[0;31m---------------------------------------------------------------------------\u001b[0m",
      "\u001b[0;31mIndexError\u001b[0m                                Traceback (most recent call last)",
      "Cell \u001b[0;32mIn[10], line 2\u001b[0m\n\u001b[1;32m      1\u001b[0m indice \u001b[38;5;241m=\u001b[39m np\u001b[38;5;241m.\u001b[39misnan(k_g) \u001b[38;5;241m|\u001b[39m np\u001b[38;5;241m.\u001b[39misinf(k_g)\n\u001b[0;32m----> 2\u001b[0m plt\u001b[38;5;241m.\u001b[39mhist(apr_mag_g[\u001b[38;5;241m~\u001b[39mindice]\u001b[38;5;241m-\u001b[39mk_g[\u001b[38;5;241m~\u001b[39mindice]\u001b[38;5;241m-\u001b[39m\u001b[43md_g\u001b[49m\u001b[43m[\u001b[49m\u001b[38;5;241;43m~\u001b[39;49m\u001b[43mindice\u001b[49m\u001b[43m]\u001b[49m,bins\u001b[38;5;241m=\u001b[39m\u001b[38;5;241m100\u001b[39m)\n",
      "\u001b[0;31mIndexError\u001b[0m: boolean index did not match indexed array along dimension 0; dimension is 22961 but corresponding boolean dimension is 22954"
     ]
    }
   ],
   "source": [
    "indice = np.isnan(k_g) | np.isinf(k_g)\n",
    "plt.hist(apr_mag_g[~indice]-k_g[~indice]-d_g[~indice],bins=100)"
   ]
  },
  {
   "cell_type": "code",
   "execution_count": null,
   "id": "46a911be-e668-47e6-969e-582482cf159d",
   "metadata": {
    "tags": []
   },
   "outputs": [],
   "source": [
    "log_likelihood(( 4.290e-02 ,-2.700e+01),apr_mag_g, magerr_g_1, d_g, k_g, 21.5)"
   ]
  },
  {
   "cell_type": "code",
   "execution_count": null,
   "id": "0017e0b4-0dcf-4105-a909-4d6b3762703e",
   "metadata": {
    "tags": []
   },
   "outputs": [],
   "source": [
    "def negative_log_likelihood(params, apr_mag, magerr, d, k, m_lim):\n",
    "    sigma_I, M_X = params\n",
    "    # Filter arrays based on the limiting magnitude\n",
    "    indice = apr_mag < m_lim\n",
    "    filtered_apr_mag = apr_mag[indice]\n",
    "    filtered_magerr = magerr[indice]\n",
    "    filtered_d = d[indice]\n",
    "    filtered_k = k[indice]\n",
    "    # Remove NaN and inf values\n",
    "    indice1 = np.isnan(filtered_k) | np.isinf(filtered_k)\n",
    "    filtered_apr_mag = filtered_apr_mag[~indice1]\n",
    "    filtered_magerr = filtered_magerr[~indice1]\n",
    "    filtered_d = filtered_d[~indice1]\n",
    "    filtered_k = filtered_k[~indice1]\n",
    "    # Calculate the variance for the filtered data\n",
    "    variance = sigma_I**2 + filtered_magerr**2\n",
    "    \n",
    "    # Calculate each term of the log-likelihood\n",
    "    term1 = -0.5 * np.log(2 * np.pi * variance)\n",
    "    term2 = -0.5 * (filtered_apr_mag - (M_X + filtered_k + filtered_d))**2 / variance\n",
    "    #term3 = -np.log( erfc((m_lim - filtered_apr_mag) / np.sqrt(2 * variance)))\n",
    "    term3 = -np.log( erfcx(-(m_lim - filtered_apr_mag) / np.sqrt(2 * variance))) + (((m_lim - filtered_apr_mag)) / np.sqrt(2 * variance))**2\n",
    "    #indice1 = np.isinf(term3)\n",
    "    #term1 = term1[~indice1]\n",
    "    #term2 = term2[~indice1]\n",
    "    #erm3 = term3[~indice1]\n",
    "    \n",
    "    #print(np.min(term1))\n",
    "    #print(np.min(term2))\n",
    "    #print(np.min(term3))\n",
    "    #print(np.max(term1))\n",
    "    #print(np.max(term2))\n",
    "    #print(np.max(term3))\n",
    "    # Sum the terms to get the total log-likelihood and multiply by -1 for negative log-likelihood\n",
    "    total_negative_log_likelihood = -np.sum(term1 + term2+term3 )\n",
    "    \n",
    "    return total_negative_log_likelihood"
   ]
  },
  {
   "cell_type": "code",
   "execution_count": null,
   "id": "2248283b-b457-4789-8884-3e7785c74428",
   "metadata": {
    "tags": []
   },
   "outputs": [],
   "source": [
    "initial_guess = (1, -25)\n",
    "\n",
    "# Bounds for parameters: assuming sigma_i > 0 and some reasonable bounds for M_X\n",
    "bounds = [(None, None), (-30, -20)]  # Example bounds: sigma_i > 0, M_X within [-30, -20]\n",
    "\n",
    "# Optimization call with method and bounds\n",
    "result = scipy.optimize.minimize(negative_log_likelihood, initial_guess, args=(apr_mag_g, magerr_g_1, d_g, k_g, 21.5),\n",
    "                  method='Nelder-Mead', bounds=bounds)\n",
    "\n",
    "print(result)"
   ]
  },
  {
   "cell_type": "code",
   "execution_count": null,
   "id": "36fd8a7c-64f0-4966-95d5-9365ba096770",
   "metadata": {
    "tags": []
   },
   "outputs": [],
   "source": [
    "Hessian_at_optimum = rosen_hess(result.x)\n",
    "\n",
    "# Estimate the covariance matrix\n",
    "covariance_matrix = np.linalg.inv(Hessian_at_optimum)\n",
    "\n",
    "# Standard errors of the estimates\n",
    "standard_errors = np.sqrt(np.diag(covariance_matrix))\n",
    "\n",
    "# Confidence intervals for each parameter\n",
    "confidence_intervals = {\n",
    "    \"param1\": (result.x[0] - 1.96 * standard_errors[0], result.x[0] + 1.96 * standard_errors[0]),\n",
    "    \"param2\": (result.x[1] - 1.96 * standard_errors[1], result.x[1] + 1.96 * standard_errors[1])\n",
    "}\n",
    "\n",
    "print(\"Confidence Intervals:\", confidence_intervals)"
   ]
  },
  {
   "cell_type": "code",
   "execution_count": null,
   "id": "83304ad6-8993-499e-a254-07b80acc482a",
   "metadata": {
    "tags": []
   },
   "outputs": [],
   "source": [
    "optimum_params = result.x  # Optimal parameter values\n",
    "covariance_matrix = np.linalg.inv(Hessian_at_optimum)  # Inverse of the Hessian at the optimum\n",
    "\n",
    "# Define the parameter grid\n",
    "param1_range = np.linspace(optimum_params[0] - 3*standard_errors[0], optimum_params[0] + 3*standard_errors[0], 100)\n",
    "param2_range = np.linspace(optimum_params[1] - 3*standard_errors[1], optimum_params[1] + 3*standard_errors[1], 100)\n",
    "param1_grid, param2_grid = np.meshgrid(param1_range, param2_range)\n",
    "\n",
    "# Compute the Mahalanobis distance for each point in the grid\n",
    "inv_covmat = np.linalg.inv(covariance_matrix)\n",
    "diff_grid = np.dstack((param1_grid - optimum_params[0], param2_grid - optimum_params[1]))\n",
    "mahalanobis_distance = np.sqrt(np.sum(np.dot(diff_grid, inv_covmat) * diff_grid, axis=2))\n",
    "\n",
    "# Plot the confidence region\n",
    "plt.figure(figsize=(8, 6))\n",
    "CS = plt.contour(param1_grid, param2_grid, mahalanobis_distance, levels=[1.96], colors='red')  # 95% confidence contour\n",
    "plt.clabel(CS, inline=True, fontsize=10)\n",
    "plt.scatter(optimum_params[0], optimum_params[1], c='black', marker='x')  # Optimum point\n",
    "plt.xlabel('intrinsic disperion')\n",
    "plt.ylabel('absolute magnitude')\n",
    "plt.title('Confidence Region for Parameters')\n",
    "plt.grid(True)\n",
    "plt.show()"
   ]
  },
  {
   "cell_type": "code",
   "execution_count": null,
   "id": "88cfc03b-16a0-4744-b5fa-c262fa31f4ae",
   "metadata": {
    "tags": []
   },
   "outputs": [],
   "source": [
    "print(result.x[1])"
   ]
  },
  {
   "cell_type": "code",
   "execution_count": null,
   "id": "474f2eee-cc1b-4557-9d89-adee3bfc6eb7",
   "metadata": {
    "tags": []
   },
   "outputs": [],
   "source": [
    "%%capture\n",
    "import emcee\n",
    "import corner\n",
    "# Define the log prior\n",
    "def log_prior(params):\n",
    "    sigma_I, M_X = params\n",
    "    if 0 < sigma_I < 10 and -30 < M_X < -20:  # Example ranges, adjust as necessary\n",
    "        return 0.0  # log(1) for uniform prior\n",
    "    return -np.inf  # log(0) outside the prior ranges\n",
    "\n",
    "# Define the log posterior\n",
    "def log_posterior(params, apr_mag, magerr, d, k, m_lim):\n",
    "    lp = log_prior(params)\n",
    "    if not np.isfinite(lp):\n",
    "        return -np.inf\n",
    "    return lp + log_likelihood(params, apr_mag, magerr, d, k, m_lim)\n",
    "\n",
    "# Initialize the sampler\n",
    "ndim = 2  # Number of parameters\n",
    "nwalkers = 100  # Number of MCMC walkers\n",
    "nsteps = 2000  # Number of MCMC steps\n",
    "start_pos = [1, -25] + 0.1 * np.random.randn(nwalkers, ndim)  # Starting positions\n",
    "\n",
    "sampler = emcee.EnsembleSampler(nwalkers, ndim, log_posterior, args=(apr_mag_g, magerr_g_1, d_g, k_g, 21.5))\n",
    "\n",
    "# Run the MCMC\n",
    "sampler.run_mcmc(start_pos, nsteps, progress=True)\n",
    "samples = sampler.get_chain(discard=500, flat=True)  # Discard burn-in"
   ]
  },
  {
   "cell_type": "code",
   "execution_count": null,
   "id": "c9d8c124-1e46-43e4-bf43-6c1f3b5001eb",
   "metadata": {
    "tags": []
   },
   "outputs": [],
   "source": [
    "fig = corner.corner(\n",
    "    samples,\n",
    "    labels=[\"sigma_I\", \"M_X\"],\n",
    "    truths=[0.01, -25],\n",
    "    quantiles=[0.16, 0.5, 0.84],  # Show the 16th, 50th, and 84th percentiles\n",
    "    show_titles=True,\n",
    "    title_kwargs={\"fontsize\": 12},\n",
    "    plot_datapoints=False,\n",
    "    plot_density=True,\n",
    "    fill_contours=True,\n",
    "    smooth=1.0,\n",
    "    hist_kwargs={\"linewidth\": 1.5, \"histtype\": \"step\", \"density\": True},\n",
    "    color='blue',\n",
    "    truth_color='red'\n",
    ")\n",
    "\n",
    "#fig.suptitle('MCMC Parameter Estimation', fontsize=16)\n",
    "\n",
    "# Increase subplot margins to provide more space for labels\n",
    "fig.subplots_adjust(left=0.15, bottom=0.15, right=0.95, top=0.95, wspace=0.1, hspace=0.1)\n",
    "\n",
    "# If overlapping persists, consider rotating labels or adjusting manually\n",
    "for ax in fig.get_axes():\n",
    "    ax.tick_params(axis='x', labelrotation=45)  # Rotate x-axis labels for better fit\n",
    "    ax.tick_params(axis='y', labelrotation=45)  # Rotate y-axis labels for better fit\n",
    "plt.savefig('/global/u1/z/zhaozhon/Plots/MCMC-1', dpi=300)\n",
    "plt.show()  # Show the plot"
   ]
  },
  {
   "cell_type": "code",
   "execution_count": null,
   "id": "61fac9b7-4bb3-4a48-a618-d796e51e4068",
   "metadata": {},
   "outputs": [],
   "source": [
    "try:\n",
    "    tau = sampler.get_autocorr_time()\n",
    "    print(f\"Autocorrelation time: {tau}\")\n",
    "except RuntimeError as e:\n",
    "    print(f\"Autocorrelation calculation failed: {e}\")"
   ]
  },
  {
   "cell_type": "code",
   "execution_count": null,
   "id": "abd71bd7-8011-4a4b-b1fb-922343745c33",
   "metadata": {
    "tags": []
   },
   "outputs": [],
   "source": [
    "nsteps = sampler.chain.shape[1]\n",
    "for i in range(sampler.chain.shape[2]):  # For each parameter\n",
    "    plt.figure(figsize=(10, 6))\n",
    "    for chain in sampler.chain[..., i]:\n",
    "        plt.plot(chain, alpha=0.5, lw=1)\n",
    "    plt.title(f\"Parameter {i+1} Trace\")\n",
    "    plt.xlabel(\"Step Number\")\n",
    "    plt.ylabel(f\"Parameter {i+1} Value\")\n",
    "    plt.savefig(f\"/global/u1/z/zhaozhon/Plots/MCMC-parameter{i+1}\", dpi=300)\n",
    "    plt.show()"
   ]
  },
  {
   "cell_type": "code",
   "execution_count": null,
   "id": "30141f58-1a34-4452-afe0-283e71b22501",
   "metadata": {},
   "outputs": [],
   "source": []
  }
 ],
 "metadata": {
  "kernelspec": {
   "display_name": "NERSC Python",
   "language": "python",
   "name": "python3"
  },
  "language_info": {
   "codemirror_mode": {
    "name": "ipython",
    "version": 3
   },
   "file_extension": ".py",
   "mimetype": "text/x-python",
   "name": "python",
   "nbconvert_exporter": "python",
   "pygments_lexer": "ipython3",
   "version": "3.11.7"
  }
 },
 "nbformat": 4,
 "nbformat_minor": 5
}
