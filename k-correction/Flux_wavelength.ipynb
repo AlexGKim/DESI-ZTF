{
 "cells": [
  {
   "cell_type": "code",
   "execution_count": 1,
   "id": "6793921f-b767-4259-972a-b7bef0154c51",
   "metadata": {
    "tags": []
   },
   "outputs": [],
   "source": [
    "import os\n",
    "from glob import glob\n",
    "import numpy as np\n",
    "import fitsio\n",
    "from scipy.ndimage import gaussian_filter1d\n",
    "from matplotlib import pyplot as plt\n",
    "from time import time\n",
    "from scipy.interpolate import interp1d\n",
    "from astropy.io import fits\n",
    "\n",
    "targetid_abs_g = np.load('/global/u1/z/zhaozhon/task/targetid_abs_g.npy')\n",
    "targetid_abs_r = np.load('/global/u1/z/zhaozhon/task/targetid_abs_r.npy')\n",
    "targetid_abs_i = np.load('/global/u1/z/zhaozhon/task/targetid_abs_i.npy')\n",
    "z_g = np.load('/global/u1/z/zhaozhon/task/z_g.npy')\n",
    "z_r = np.load('/global/u1/z/zhaozhon/task/z_r.npy')\n",
    "z_i = np.load('/global/u1/z/zhaozhon/task/z_i.npy')\n",
    "bp_g = np.load('/global/u1/z/zhaozhon/k-correction/Bandpass/bp_g.npy')\n",
    "bp_r = np.load('/global/u1/z/zhaozhon/k-correction/Bandpass/bp_r.npy')\n",
    "bp_i = np.load('/global/u1/z/zhaozhon/k-correction/Bandpass/bp_i.npy')"
   ]
  },
  {
   "cell_type": "code",
   "execution_count": 2,
   "id": "a920c718-c27a-4bb7-8957-a6faadff24e1",
   "metadata": {
    "tags": []
   },
   "outputs": [],
   "source": [
    "#zero_point\n",
    "hdul = fits.open('/global/u1/z/zhaozhon/zero-point/bd_17d4708_stisnic_007.fits')\n",
    "data = hdul[1].data\n",
    "ws_z = data['WAVELENGTH']\n",
    "fs_z = data['flux']\n",
    "f_z = interp1d(ws_z,fs_z, kind='cubic')\n",
    "ws_z_new = np.linspace(ws_z[0], ws_z[-1], 1000)\n",
    "fs_z_new = f_z(ws_z_new)"
   ]
  },
  {
   "cell_type": "code",
   "execution_count": 3,
   "id": "43dfdf67-b64e-4ad3-909d-e50f1d885272",
   "metadata": {
    "tags": []
   },
   "outputs": [],
   "source": [
    "ws_g = bp_g[0]\n",
    "bp_g = bp_g[1]\n",
    "f_bp_g = interp1d(ws_g, bp_g, kind='cubic')\n",
    "ws_g_new = np.linspace(ws_g[0], ws_g[-1], 1000)\n",
    "bp_g_new = f_bp_g(ws_g_new)"
   ]
  },
  {
   "cell_type": "code",
   "execution_count": 4,
   "id": "e1c7778e-fa9a-48e7-ab13-bbb87998c7b9",
   "metadata": {
    "tags": []
   },
   "outputs": [
    {
     "data": {
      "text/plain": [
       "\"\\n# Plot the original data points\\nplt.plot(ws_g, bp_g,label='Data Points',color = 'black')\\n\\n# Plot the cubic spline\\nplt.plot(ws_g_new, bp_g_new, label='Cubic Spline', color='red')\\n\\nplt.legend()\\nplt.xlabel('wavelength(A)')\\nplt.ylabel('Transmission')\\nplt.title('Cubic Spline Interpolation')\\nplt.show()\\n\""
      ]
     },
     "execution_count": 4,
     "metadata": {},
     "output_type": "execute_result"
    }
   ],
   "source": [
    "'''\n",
    "# Plot the original data points\n",
    "plt.plot(ws_g, bp_g,label='Data Points',color = 'black')\n",
    "\n",
    "# Plot the cubic spline\n",
    "plt.plot(ws_g_new, bp_g_new, label='Cubic Spline', color='red')\n",
    "\n",
    "plt.legend()\n",
    "plt.xlabel('wavelength(A)')\n",
    "plt.ylabel('Transmission')\n",
    "plt.title('Cubic Spline Interpolation')\n",
    "plt.show()\n",
    "'''"
   ]
  },
  {
   "cell_type": "code",
   "execution_count": 5,
   "id": "3a841e0e-5025-452b-83f2-94b1df8a8041",
   "metadata": {
    "tags": []
   },
   "outputs": [],
   "source": [
    "ws_r = bp_r[0]\n",
    "bp_r = bp_r[1]\n",
    "f_bp_r = interp1d(ws_r, bp_r, kind='cubic')\n",
    "ws_r_new = np.linspace(ws_r[0], ws_r[-1], 1000)\n",
    "bp_r_new = f_bp_r(ws_r_new)"
   ]
  },
  {
   "cell_type": "code",
   "execution_count": 6,
   "id": "0f1ed401-f693-49b2-8233-64ffb5412b9b",
   "metadata": {
    "tags": []
   },
   "outputs": [
    {
     "data": {
      "text/plain": [
       "\"\\n# Plot the original data points\\nplt.plot(ws_r, bp_r,label='Data Points',color = 'black')\\n\\n# Plot the cubic spline\\nplt.plot(ws_r_new, bp_r_new, label='Cubic Spline', color='red')\\n\\nplt.legend()\\nplt.xlabel('wavelength(A)')\\nplt.ylabel('Transmission')\\nplt.title('Cubic Spline Interpolation')\\nplt.show()\\n\""
      ]
     },
     "execution_count": 6,
     "metadata": {},
     "output_type": "execute_result"
    }
   ],
   "source": [
    "'''\n",
    "# Plot the original data points\n",
    "plt.plot(ws_r, bp_r,label='Data Points',color = 'black')\n",
    "\n",
    "# Plot the cubic spline\n",
    "plt.plot(ws_r_new, bp_r_new, label='Cubic Spline', color='red')\n",
    "\n",
    "plt.legend()\n",
    "plt.xlabel('wavelength(A)')\n",
    "plt.ylabel('Transmission')\n",
    "plt.title('Cubic Spline Interpolation')\n",
    "plt.show()\n",
    "'''"
   ]
  },
  {
   "cell_type": "code",
   "execution_count": 7,
   "id": "c58e2a4d-6ac9-4aa6-9f1b-1a8897727b80",
   "metadata": {
    "tags": []
   },
   "outputs": [],
   "source": [
    "ws_i = bp_i[0]\n",
    "bp_i = bp_i[1]\n",
    "f_bp_i = interp1d(ws_i, bp_i, kind='cubic')\n",
    "ws_i_new = np.linspace(ws_i[0], ws_i[-1], 1000)\n",
    "bp_i_new = f_bp_i(ws_i_new)"
   ]
  },
  {
   "cell_type": "code",
   "execution_count": 8,
   "id": "abe206ea-fcd4-4c08-9d9e-2bda321775c3",
   "metadata": {
    "tags": []
   },
   "outputs": [
    {
     "data": {
      "text/plain": [
       "\"\\n# Plot the original data points\\nplt.plot(ws_i, bp_i,label='Data Points',color = 'black')\\n\\n# Plot the cubic spline\\nplt.plot(ws_i_new, bp_i_new, label='Cubic Spline', color='red')\\n\\nplt.legend()\\nplt.xlabel('wavelength(A)')\\nplt.ylabel('Transmission')\\nplt.title('Cubic Spline Interpolation')\\nplt.show()\\n\""
      ]
     },
     "execution_count": 8,
     "metadata": {},
     "output_type": "execute_result"
    }
   ],
   "source": [
    "'''\n",
    "# Plot the original data points\n",
    "plt.plot(ws_i, bp_i,label='Data Points',color = 'black')\n",
    "\n",
    "# Plot the cubic spline\n",
    "plt.plot(ws_i_new, bp_i_new, label='Cubic Spline', color='red')\n",
    "\n",
    "plt.legend()\n",
    "plt.xlabel('wavelength(A)')\n",
    "plt.ylabel('Transmission')\n",
    "plt.title('Cubic Spline Interpolation')\n",
    "plt.show()\n",
    "'''"
   ]
  },
  {
   "cell_type": "code",
   "execution_count": 9,
   "id": "01fd6738-9423-41c1-8f69-37d7e47aa7e8",
   "metadata": {
    "tags": []
   },
   "outputs": [
    {
     "name": "stdout",
     "output_type": "stream",
     "text": [
      "reading /pscratch/sd/z/zhaozhon/desi-ztf-qso-iron-pernight-summary.fits done (took 3.2s)\n",
      "done extracting 4 spectra for TARGETID=39627533204853360 (took 0.7s)\n"
     ]
    }
   ],
   "source": [
    "# Define your TARGETID and output file name here\n",
    "tid = 39627533204853360  # Replace with your TARGETID\n",
    "outpng = 'output.png'  # Replace with your desired output file name\n",
    "\n",
    "# Directory where the FITS files are located\n",
    "# Replace 'PSCRATCH' with the actual path if the environment variable is not set\n",
    "ardir = os.path.join(os.getenv(\"PSCRATCH\", \"/pscratch/sd/z/zhaozhon\"))\n",
    "\n",
    "def get_ws(ardir):\n",
    "    fn = sorted(\n",
    "        glob(os.path.join(ardir, \"pernight-spectra\",\"desi-ztf-qso-iron-*-*.fits\"))\n",
    "    )[0]\n",
    "    ws = fitsio.read(fn, \"BRZ_WAVE\")\n",
    "    return ws\n",
    "def get_tid_tileids_nights(tid, all_tids, all_tileids, all_nights):\n",
    "    sel = all_tids == tid\n",
    "    return all_tileids[sel], all_nights[sel]\n",
    "def get_indiv_spectra(tid, tileids, nights, ardir, nwave):\n",
    "\n",
    "    nobs = len(tileids)\n",
    "\n",
    "    # read the spectra\n",
    "    fs = np.zeros((nobs, nwave))  # flux\n",
    "    ivs = np.zeros((nobs, nwave))  # inverse variance\n",
    "\n",
    "    # loop on (tileids, nights)\n",
    "    for i, (tileid, night) in enumerate(zip(tileids, nights)):\n",
    "\n",
    "        fn = os.path.join(\n",
    "            ardir,\"pernight-spectra\",\n",
    "            \"desi-ztf-qso-iron-{}-{}.fits\".format(tileid, night),\n",
    "        )\n",
    "\n",
    "        # first get the row corresponding to TARGETID\n",
    "        # (for a given TILEID, a TARGETID can appear only once max.)\n",
    "        tmp_fm = fitsio.read(fn, \"FIBERMAP\", columns=[\"TARGETID\"])\n",
    "        tmp_i = np.where(tmp_fm[\"TARGETID\"] == tid)[0][0]\n",
    "\n",
    "        # now read the flux, ivar only for that row\n",
    "\n",
    "        # this is more intuitive, but it loads the whole image first,\n",
    "        #   then extracts the relevant row, so it s ~slow\n",
    "        fs[i, :] = fitsio.read(fn, \"BRZ_FLUX\")[tmp_i, :]\n",
    "        ivs[i, :] = fitsio.read(fn, \"BRZ_IVAR\")[tmp_i, :]\n",
    "\n",
    "        # this way is *much* faster, with reading only the relevant row\n",
    "        #   note: fitsio wants/works with a slice, not an integer...\n",
    "        #h = fitsio.FITS(fn)\n",
    "        #tmp_slice = slice(tmp_i, tmp_i + 1, 1)\n",
    "        #fs[i, :] = h[\"BRZ_FLUX\"][tmp_slice, :]\n",
    "        #ivs[i, :] = h[\"BRZ_IVAR\"][tmp_slice, :]\n",
    "\n",
    "    return fs, ivs\n",
    "def get_smooth(fs, ivs, gauss_smooth):\n",
    "    tmp0fs = fs.copy()\n",
    "    tmp0fs[ivs == 0] = 0\n",
    "    tmp1fs = 1 + 0 * fs.copy()\n",
    "    tmp1fs[ivs == 0] = 0\n",
    "    tmp0smfs = gaussian_filter1d(tmp0fs, gauss_smooth, mode=\"constant\", cval=0)\n",
    "    tmp1smfs = gaussian_filter1d(tmp1fs, gauss_smooth, mode=\"constant\", cval=0)\n",
    "    return tmp0smfs / tmp1smfs\n",
    "def plot_tid_spectra(outpng, tid, ws, fs, ivs):\n",
    "    fig, ax = plt.subplots(figsize=(10, 5))\n",
    "    for i in range(fs.shape[0]):\n",
    "        smfs_i = get_smooth(fs[i], ivs[i], 5)\n",
    "        ax.plot(ws, smfs_i, lw=0.5)\n",
    "    ax.set_title(\"TARGETID = {}\".format(tid))\n",
    "    ax.set_xlabel(\"Observed wavelength [A]\")\n",
    "    ax.set_ylabel(\"Flux [erg / cm2 / s / A]\")\n",
    "    ax.grid()\n",
    "    plt.savefig(outpng, bbox_inches=\"tight\")\n",
    "    plt.close()\n",
    "sumfn = os.path.join(ardir, \"desi-ztf-qso-iron-pernight-summary.fits\")\n",
    "def save_wavelength_and_flux_to_npy(wavelength, flux, filename1,filename2):\n",
    "    np.save(filename1, wavelength)\n",
    "    np.save(filename2,flux)\n",
    "def k_correction(ws,fs,ws_bp,bp,z0,z1,x_l,x_r):\n",
    "    fs_avg = np.mean(fs, axis=0)\n",
    "    f = interp1d(ws,fs_avg, kind='cubic')\n",
    "    f_bp = interp1d(ws_bp, bp, kind='cubic')\n",
    "    #area0\n",
    "    new_ws = np.linspace(ws_bp[0],ws_bp[-1],10000)\n",
    "    new_fs = f(new_ws)\n",
    "    new_bp = f_bp(new_ws)\n",
    "    y_0 = new_ws*new_fs*new_bp\n",
    "    area0 = np.trapz(y_0,new_ws)\n",
    "    #area1\n",
    "    new_ws1 = np.linspace(ws_bp[0]/(1+z0),ws_bp[-1]/(1+z0),10000)\n",
    "    new_fs1 = f(new_ws1*(1+z1))\n",
    "    y_1 = new_ws1*new_fs1*new_bp\n",
    "    area1 = np.trapz(y_1,new_ws1)\n",
    "    k = 2.5*np.log10(1+z1)+2.5*np.log10(area1/area0)\n",
    "    #if 2.1<z1<2.9:       \n",
    "        #plt.plot(new_ws1,new_fs1)\n",
    "        #plt.plot(new_ws1,new_bp)\n",
    "        #plt.show()\n",
    "    #zero_point\n",
    "    #area2 = np.trapz(f_z(new_ws)*new_ws*new_bp,new_ws)\n",
    "    #area3 = np.trapz(f_z(new_ws1*(1+z1))*new_ws1*new_bp,new_ws1)\n",
    "    #k = 2.5*np.log10(1+z1)+2.5*np.log10(area1/area0)+2.5*np.log10(area2/area3)\n",
    "    return k\n",
    "# wavelengths\n",
    "ws = get_ws(ardir)\n",
    "nwave = len(ws)\n",
    "\n",
    "# read the master table\n",
    "start = time()\n",
    "d = fitsio.read(sumfn, \"FIBERMAP\")\n",
    "print(\"reading {} done (took {:.1f}s)\".format(sumfn, time() - start))\n",
    "\n",
    "# get the (TILEID,NIGHT) sets for that TARGETID\n",
    "tileids, nights = get_tid_tileids_nights(tid, d[\"TARGETID\"], d[\"TILEID\"], d[\"NIGHT\"])\n",
    "\n",
    "# get fluxes and ivars\n",
    "start = time()\n",
    "fs, ivs = get_indiv_spectra(tid, tileids, nights, ardir, nwave)\n",
    "print(\"done extracting {} spectra for TARGETID={} (took {:.1f}s)\".format(len(tileids), tid, time() - start))\n",
    "\n",
    "# plot\n",
    "#plot_tid_spectra(outpng, tid, ws, fs, ivs)\n",
    "#print(\"done plotting {}\".format(outpng))"
   ]
  },
  {
   "cell_type": "code",
   "execution_count": 10,
   "id": "3f356c0e-a880-41a0-8813-a468158c839d",
   "metadata": {},
   "outputs": [
    {
     "name": "stdout",
     "output_type": "stream",
     "text": [
      "3600.0\n",
      "9824.000000000524\n"
     ]
    }
   ],
   "source": [
    "print(np.min(ws))\n",
    "print(np.max(ws))"
   ]
  },
  {
   "cell_type": "code",
   "execution_count": 11,
   "id": "2415afb6-1d58-4285-b40a-a6ef44dce0c7",
   "metadata": {
    "tags": []
   },
   "outputs": [
    {
     "name": "stderr",
     "output_type": "stream",
     "text": [
      "  0%|          | 1734/900000 [01:04<17:31:59, 14.23it/s]/tmp/ipykernel_1476688/896916668.py:92: RuntimeWarning: divide by zero encountered in log10\n",
      "  k = 2.5*np.log10(1+z1)+2.5*np.log10(area1/area0)\n",
      "  1%|          | 8152/900000 [05:48<19:21:26, 12.80it/s]/tmp/ipykernel_1476688/896916668.py:92: RuntimeWarning: invalid value encountered in double_scalars\n",
      "  k = 2.5*np.log10(1+z1)+2.5*np.log10(area1/area0)\n",
      " 13%|█▎        | 119836/900000 [1:27:18<9:28:26, 22.87it/s] \n"
     ]
    }
   ],
   "source": [
    "\n",
    "from tqdm import tqdm\n",
    "k_g = []\n",
    "tid_g = []\n",
    "index_g = []\n",
    "for index,targetid in tqdm(enumerate(targetid_abs_g),total = 900000):\n",
    "    z_1 = z_g[index]\n",
    "    if z_1 > 2.1 and z_1 < 2.9:\n",
    "        ws = get_ws(ardir)\n",
    "        nwave = len(ws)\n",
    "        if targetid in d[\"TARGETID\"]:\n",
    "            tileids, nights = get_tid_tileids_nights(targetid, d[\"TARGETID\"], d[\"TILEID\"], d[\"NIGHT\"])\n",
    "            fs, ivs = get_indiv_spectra(targetid, tileids, nights, ardir, nwave)\n",
    "            k = k_correction(ws,fs,ws_g,bp_g,2.3,z_1,ws_g[0],ws_g[-1])\n",
    "            k_g.append(k)\n",
    "            tid_g.append(targetid)\n",
    "            index_g.append(index)\n",
    "        else:\n",
    "            continue\n",
    "    else:\n",
    "        continue\n",
    "    #tileids, nights = get_tid_tileids_nights(targetid, d[\"TARGETID\"], d[\"TILEID\"], d[\"NIGHT\"])\n",
    "    #print(tileids)\n",
    "    #fs, ivs = get_indiv_spectra(targetid, tileids, nights, ardir, nwave)\n",
    "    #k = k_correction(ws,fs,2.1,2.3,4000,5500)\n",
    "    #k_g.append(k)\n"
   ]
  },
  {
   "cell_type": "code",
   "execution_count": 12,
   "id": "29119f69-8ed8-45d5-bfa1-262f66d673c1",
   "metadata": {},
   "outputs": [],
   "source": [
    "np.save('k_g',k_g)\n",
    "np.save('tid_g',tid_g)\n",
    "np.save('index_g',index_g)"
   ]
  },
  {
   "cell_type": "code",
   "execution_count": 13,
   "id": "a2a8c49d-29b0-48be-99a8-d2adc4c98bee",
   "metadata": {
    "tags": []
   },
   "outputs": [
    {
     "name": "stderr",
     "output_type": "stream",
     "text": [
      "  3%|▎         | 3003/100000 [02:19<2:00:39, 13.40it/s]/tmp/ipykernel_1476688/896916668.py:92: RuntimeWarning: invalid value encountered in log10\n",
      "  k = 2.5*np.log10(1+z1)+2.5*np.log10(area1/area0)\n",
      "  9%|▊         | 8599/100000 [06:32<1:57:58, 12.91it/s]/tmp/ipykernel_1476688/896916668.py:92: RuntimeWarning: invalid value encountered in double_scalars\n",
      "  k = 2.5*np.log10(1+z1)+2.5*np.log10(area1/area0)\n",
      "137580it [1:33:36, 24.50it/s]                           \n"
     ]
    }
   ],
   "source": [
    "from tqdm import tqdm\n",
    "k_r = []\n",
    "tid_r = []\n",
    "index_r = []\n",
    "for index,targetid in tqdm(enumerate(targetid_abs_r),total = 100000):\n",
    "    z_1 = z_r[index]\n",
    "    if z_1 > 2.1 and z_1 < 2.8:\n",
    "        ws = get_ws(ardir)\n",
    "        nwave = len(ws)\n",
    "        if targetid in d[\"TARGETID\"]:\n",
    "            tileids, nights = get_tid_tileids_nights(targetid, d[\"TARGETID\"], d[\"TILEID\"], d[\"NIGHT\"])\n",
    "            fs, ivs = get_indiv_spectra(targetid, tileids, nights, ardir, nwave)\n",
    "            k = k_correction(ws,fs,ws_r,bp_r,2.5,z_1,ws_r[0],ws_r[-1])\n",
    "            k_r.append(k)\n",
    "            tid_r.append(targetid)\n",
    "            index_r.append(index)\n",
    "        else:\n",
    "            continue\n",
    "    else:\n",
    "        continue"
   ]
  },
  {
   "cell_type": "code",
   "execution_count": 14,
   "id": "c7a0ab15-b9f1-4220-856b-3f050b643e3e",
   "metadata": {},
   "outputs": [],
   "source": [
    "\n",
    "np.save('k_r',k_r)\n",
    "np.save('tid_r',tid_r)\n",
    "np.save('index_r',index_r)\n"
   ]
  },
  {
   "cell_type": "code",
   "execution_count": 15,
   "id": "7bf428c0-8cbc-4686-959f-3145a37b68ce",
   "metadata": {},
   "outputs": [
    {
     "name": "stderr",
     "output_type": "stream",
     "text": [
      "  8%|▊         | 7536/100000 [04:25<2:08:45, 11.97it/s]/tmp/ipykernel_1476688/896916668.py:92: RuntimeWarning: invalid value encountered in double_scalars\n",
      "  k = 2.5*np.log10(1+z1)+2.5*np.log10(area1/area0)\n",
      " 62%|██████▏   | 61897/100000 [39:52<13:16, 47.86it/s]  /tmp/ipykernel_1476688/896916668.py:92: RuntimeWarning: invalid value encountered in log10\n",
      "  k = 2.5*np.log10(1+z1)+2.5*np.log10(area1/area0)\n",
      " 88%|████████▊ | 87811/100000 [52:55<07:20, 27.66it/s] \n"
     ]
    }
   ],
   "source": [
    "from tqdm import tqdm\n",
    "k_i = []\n",
    "tid_i = []\n",
    "index_i = []\n",
    "for index,targetid in tqdm(enumerate(targetid_abs_i),total = 100000):\n",
    "    z_1 = z_i[index]\n",
    "    if z_1 > 2.1 and z_1 < 2.8:\n",
    "        ws = get_ws(ardir)\n",
    "        nwave = len(ws)\n",
    "        if targetid in d[\"TARGETID\"]:\n",
    "            tileids, nights = get_tid_tileids_nights(targetid, d[\"TARGETID\"], d[\"TILEID\"], d[\"NIGHT\"])\n",
    "            fs, ivs = get_indiv_spectra(targetid, tileids, nights, ardir, nwave)\n",
    "            k = k_correction(ws,fs,ws_i,bp_i,2.5,z_1,ws_i[0],ws_i[-1])\n",
    "            k_i.append(k)\n",
    "            tid_i.append(targetid)\n",
    "            index_i.append(index)\n",
    "        else:\n",
    "            continue\n",
    "    else:\n",
    "        continue"
   ]
  },
  {
   "cell_type": "code",
   "execution_count": 16,
   "id": "678ce155-bbba-4557-9faa-c2a380d2a6ed",
   "metadata": {},
   "outputs": [],
   "source": [
    "\n",
    "np.save('k_i',k_i)\n",
    "np.save('tid_i',tid_i)\n",
    "np.save('index_i',index_i)\n"
   ]
  },
  {
   "cell_type": "code",
   "execution_count": null,
   "id": "2add3542-6e5b-431e-90b8-f9240df50ebd",
   "metadata": {},
   "outputs": [],
   "source": []
  }
 ],
 "metadata": {
  "kernelspec": {
   "display_name": "DESI main",
   "language": "python",
   "name": "desi-main"
  },
  "language_info": {
   "codemirror_mode": {
    "name": "ipython",
    "version": 3
   },
   "file_extension": ".py",
   "mimetype": "text/x-python",
   "name": "python",
   "nbconvert_exporter": "python",
   "pygments_lexer": "ipython3",
   "version": "3.10.8"
  }
 },
 "nbformat": 4,
 "nbformat_minor": 5
}
